{
 "cells": [
  {
   "cell_type": "code",
   "execution_count": 2,
   "metadata": {
    "ExecuteTime": {
     "end_time": "2020-05-17T02:32:38.544607Z",
     "start_time": "2020-05-17T02:32:35.950300Z"
    }
   },
   "outputs": [
    {
     "name": "stdout",
     "output_type": "stream",
     "text": [
      "Using matplotlib backend: Qt5Agg\n",
      "Populating the interactive namespace from numpy and matplotlib\n"
     ]
    }
   ],
   "source": [
    "%pylab\n",
    "%matplotlib inline\n",
    "\n",
    "import pandas as pd\n",
    "import pickle\n",
    "from pathlib import Path as path\n",
    "from tqdm.notebook import tqdm\n",
    "import warnings\n",
    "import datetime\n",
    "from collections import defaultdict\n",
    "warnings.filterwarnings('ignore')\n",
    "\n",
    "plt.rcParams['font.sans-serif']=['SimHei'] #用来正常显示中文标签\n",
    "plt.rcParams['axes.unicode_minus']=False #用来正常显示负号"
   ]
  },
  {
   "cell_type": "code",
   "execution_count": 3,
   "metadata": {
    "ExecuteTime": {
     "end_time": "2020-05-17T02:32:42.421420Z",
     "start_time": "2020-05-17T02:32:38.560579Z"
    }
   },
   "outputs": [],
   "source": [
    "DATA_DIR = path(r'E:\\workspace\\2004_ShortSessionRec\\data')\n",
    "with open(DATA_DIR/'session.pkl', 'rb') as f:\n",
    "    dfr = pickle.load(f)\n",
    "with open(DATA_DIR/'network.pkl', 'rb') as f:\n",
    "    dfn = pickle.load(f)\n",
    "datas = list(dfr.keys())"
   ]
  },
  {
   "cell_type": "code",
   "execution_count": 4,
   "metadata": {
    "ExecuteTime": {
     "end_time": "2020-05-17T02:32:42.812436Z",
     "start_time": "2020-05-17T02:32:42.453437Z"
    }
   },
   "outputs": [
    {
     "data": {
      "text/html": [
       "<div>\n",
       "<style scoped>\n",
       "    .dataframe tbody tr th:only-of-type {\n",
       "        vertical-align: middle;\n",
       "    }\n",
       "\n",
       "    .dataframe tbody tr th {\n",
       "        vertical-align: top;\n",
       "    }\n",
       "\n",
       "    .dataframe thead th {\n",
       "        text-align: right;\n",
       "    }\n",
       "</style>\n",
       "<table border=\"1\" class=\"dataframe\">\n",
       "  <thead>\n",
       "    <tr style=\"text-align: right;\">\n",
       "      <th></th>\n",
       "      <th>user</th>\n",
       "      <th>item</th>\n",
       "      <th>timestamp</th>\n",
       "      <th>sessionId</th>\n",
       "      <th>session_len</th>\n",
       "    </tr>\n",
       "  </thead>\n",
       "  <tbody>\n",
       "    <tr>\n",
       "      <th>8</th>\n",
       "      <td>0</td>\n",
       "      <td>153505</td>\n",
       "      <td>1286899040</td>\n",
       "      <td>0_11</td>\n",
       "      <td>2</td>\n",
       "    </tr>\n",
       "    <tr>\n",
       "      <th>9</th>\n",
       "      <td>0</td>\n",
       "      <td>420315</td>\n",
       "      <td>1286896743</td>\n",
       "      <td>0_11</td>\n",
       "      <td>2</td>\n",
       "    </tr>\n",
       "    <tr>\n",
       "      <th>11</th>\n",
       "      <td>0</td>\n",
       "      <td>16907</td>\n",
       "      <td>1286828480</td>\n",
       "      <td>0_10</td>\n",
       "      <td>2</td>\n",
       "    </tr>\n",
       "    <tr>\n",
       "      <th>12</th>\n",
       "      <td>0</td>\n",
       "      <td>12973</td>\n",
       "      <td>1286828442</td>\n",
       "      <td>0_10</td>\n",
       "      <td>2</td>\n",
       "    </tr>\n",
       "    <tr>\n",
       "      <th>14</th>\n",
       "      <td>0</td>\n",
       "      <td>260957</td>\n",
       "      <td>1286748037</td>\n",
       "      <td>0_9</td>\n",
       "      <td>2</td>\n",
       "    </tr>\n",
       "    <tr>\n",
       "      <th>...</th>\n",
       "      <td>...</td>\n",
       "      <td>...</td>\n",
       "      <td>...</td>\n",
       "      <td>...</td>\n",
       "      <td>...</td>\n",
       "    </tr>\n",
       "    <tr>\n",
       "      <th>6442867</th>\n",
       "      <td>196578</td>\n",
       "      <td>1160482</td>\n",
       "      <td>1276339638</td>\n",
       "      <td>196578_1</td>\n",
       "      <td>2</td>\n",
       "    </tr>\n",
       "    <tr>\n",
       "      <th>6442871</th>\n",
       "      <td>196578</td>\n",
       "      <td>467635</td>\n",
       "      <td>1276270978</td>\n",
       "      <td>196578_0</td>\n",
       "      <td>4</td>\n",
       "    </tr>\n",
       "    <tr>\n",
       "      <th>6442873</th>\n",
       "      <td>196578</td>\n",
       "      <td>797460</td>\n",
       "      <td>1276270940</td>\n",
       "      <td>196578_0</td>\n",
       "      <td>4</td>\n",
       "    </tr>\n",
       "    <tr>\n",
       "      <th>6442887</th>\n",
       "      <td>196578</td>\n",
       "      <td>906885</td>\n",
       "      <td>1276263146</td>\n",
       "      <td>196578_0</td>\n",
       "      <td>4</td>\n",
       "    </tr>\n",
       "    <tr>\n",
       "      <th>6442889</th>\n",
       "      <td>196578</td>\n",
       "      <td>1174322</td>\n",
       "      <td>1276262794</td>\n",
       "      <td>196578_0</td>\n",
       "      <td>4</td>\n",
       "    </tr>\n",
       "  </tbody>\n",
       "</table>\n",
       "<p>1047619 rows × 5 columns</p>\n",
       "</div>"
      ],
      "text/plain": [
       "           user     item   timestamp sessionId  session_len\n",
       "8             0   153505  1286899040      0_11            2\n",
       "9             0   420315  1286896743      0_11            2\n",
       "11            0    16907  1286828480      0_10            2\n",
       "12            0    12973  1286828442      0_10            2\n",
       "14            0   260957  1286748037       0_9            2\n",
       "...         ...      ...         ...       ...          ...\n",
       "6442867  196578  1160482  1276339638  196578_1            2\n",
       "6442871  196578   467635  1276270978  196578_0            4\n",
       "6442873  196578   797460  1276270940  196578_0            4\n",
       "6442887  196578   906885  1276263146  196578_0            4\n",
       "6442889  196578  1174322  1276262794  196578_0            4\n",
       "\n",
       "[1047619 rows x 5 columns]"
      ]
     },
     "execution_count": 4,
     "metadata": {},
     "output_type": "execute_result"
    }
   ],
   "source": [
    "data = 'gowalla'\n",
    "df = dfr[data]\n",
    "gs = df.groupby('sessionId')\n",
    "df['session_len'] = df.groupby('sessionId').sessionId.transform('size')"
   ]
  },
  {
   "cell_type": "code",
   "execution_count": 4,
   "metadata": {
    "ExecuteTime": {
     "end_time": "2020-05-16T01:46:18.891082Z",
     "start_time": "2020-05-16T01:46:18.697049Z"
    }
   },
   "outputs": [
    {
     "data": {
      "text/plain": [
       "<matplotlib.axes._subplots.AxesSubplot at 0x1cb04738848>"
      ]
     },
     "execution_count": 4,
     "metadata": {},
     "output_type": "execute_result"
    },
    {
     "data": {
      "image/png": "[encoded data removed]",
      "text/plain": [
       "<Figure size 432x288 with 1 Axes>"
      ]
     },
     "metadata": {
      "needs_background": "light"
     },
     "output_type": "display_data"
    }
   ],
   "source": [
    "df.session_len.value_counts().sort_index().plot(kind='bar')"
   ]
  },
  {
   "cell_type": "code",
   "execution_count": 5,
   "metadata": {
    "ExecuteTime": {
     "end_time": "2020-05-17T02:32:51.242342Z",
     "start_time": "2020-05-17T02:32:51.122328Z"
    }
   },
   "outputs": [
    {
     "data": {
      "text/html": [
       "<div>\n",
       "<style scoped>\n",
       "    .dataframe tbody tr th:only-of-type {\n",
       "        vertical-align: middle;\n",
       "    }\n",
       "\n",
       "    .dataframe tbody tr th {\n",
       "        vertical-align: top;\n",
       "    }\n",
       "\n",
       "    .dataframe thead th {\n",
       "        text-align: right;\n",
       "    }\n",
       "</style>\n",
       "<table border=\"1\" class=\"dataframe\">\n",
       "  <thead>\n",
       "    <tr style=\"text-align: right;\">\n",
       "      <th></th>\n",
       "      <th>user</th>\n",
       "      <th>item</th>\n",
       "      <th>timestamp</th>\n",
       "      <th>sessionId</th>\n",
       "      <th>session_len</th>\n",
       "      <th>session_start</th>\n",
       "      <th>session_end</th>\n",
       "    </tr>\n",
       "  </thead>\n",
       "  <tbody>\n",
       "    <tr>\n",
       "      <th>8</th>\n",
       "      <td>0</td>\n",
       "      <td>153505</td>\n",
       "      <td>1286899040</td>\n",
       "      <td>0_11</td>\n",
       "      <td>2</td>\n",
       "      <td>1286896743</td>\n",
       "      <td>1286899040</td>\n",
       "    </tr>\n",
       "    <tr>\n",
       "      <th>9</th>\n",
       "      <td>0</td>\n",
       "      <td>420315</td>\n",
       "      <td>1286896743</td>\n",
       "      <td>0_11</td>\n",
       "      <td>2</td>\n",
       "      <td>1286896743</td>\n",
       "      <td>1286899040</td>\n",
       "    </tr>\n",
       "    <tr>\n",
       "      <th>11</th>\n",
       "      <td>0</td>\n",
       "      <td>16907</td>\n",
       "      <td>1286828480</td>\n",
       "      <td>0_10</td>\n",
       "      <td>2</td>\n",
       "      <td>1286828442</td>\n",
       "      <td>1286828480</td>\n",
       "    </tr>\n",
       "    <tr>\n",
       "      <th>12</th>\n",
       "      <td>0</td>\n",
       "      <td>12973</td>\n",
       "      <td>1286828442</td>\n",
       "      <td>0_10</td>\n",
       "      <td>2</td>\n",
       "      <td>1286828442</td>\n",
       "      <td>1286828480</td>\n",
       "    </tr>\n",
       "    <tr>\n",
       "      <th>14</th>\n",
       "      <td>0</td>\n",
       "      <td>260957</td>\n",
       "      <td>1286748037</td>\n",
       "      <td>0_9</td>\n",
       "      <td>2</td>\n",
       "      <td>1286745434</td>\n",
       "      <td>1286748037</td>\n",
       "    </tr>\n",
       "    <tr>\n",
       "      <th>...</th>\n",
       "      <td>...</td>\n",
       "      <td>...</td>\n",
       "      <td>...</td>\n",
       "      <td>...</td>\n",
       "      <td>...</td>\n",
       "      <td>...</td>\n",
       "      <td>...</td>\n",
       "    </tr>\n",
       "    <tr>\n",
       "      <th>6442867</th>\n",
       "      <td>196578</td>\n",
       "      <td>1160482</td>\n",
       "      <td>1276339638</td>\n",
       "      <td>196578_1</td>\n",
       "      <td>2</td>\n",
       "      <td>1276339638</td>\n",
       "      <td>1276341536</td>\n",
       "    </tr>\n",
       "    <tr>\n",
       "      <th>6442871</th>\n",
       "      <td>196578</td>\n",
       "      <td>467635</td>\n",
       "      <td>1276270978</td>\n",
       "      <td>196578_0</td>\n",
       "      <td>4</td>\n",
       "      <td>1276262794</td>\n",
       "      <td>1276270978</td>\n",
       "    </tr>\n",
       "    <tr>\n",
       "      <th>6442873</th>\n",
       "      <td>196578</td>\n",
       "      <td>797460</td>\n",
       "      <td>1276270940</td>\n",
       "      <td>196578_0</td>\n",
       "      <td>4</td>\n",
       "      <td>1276262794</td>\n",
       "      <td>1276270978</td>\n",
       "    </tr>\n",
       "    <tr>\n",
       "      <th>6442887</th>\n",
       "      <td>196578</td>\n",
       "      <td>906885</td>\n",
       "      <td>1276263146</td>\n",
       "      <td>196578_0</td>\n",
       "      <td>4</td>\n",
       "      <td>1276262794</td>\n",
       "      <td>1276270978</td>\n",
       "    </tr>\n",
       "    <tr>\n",
       "      <th>6442889</th>\n",
       "      <td>196578</td>\n",
       "      <td>1174322</td>\n",
       "      <td>1276262794</td>\n",
       "      <td>196578_0</td>\n",
       "      <td>4</td>\n",
       "      <td>1276262794</td>\n",
       "      <td>1276270978</td>\n",
       "    </tr>\n",
       "  </tbody>\n",
       "</table>\n",
       "<p>1047619 rows × 7 columns</p>\n",
       "</div>"
      ],
      "text/plain": [
       "           user     item   timestamp sessionId  session_len  session_start  \\\n",
       "8             0   153505  1286899040      0_11            2     1286896743   \n",
       "9             0   420315  1286896743      0_11            2     1286896743   \n",
       "11            0    16907  1286828480      0_10            2     1286828442   \n",
       "12            0    12973  1286828442      0_10            2     1286828442   \n",
       "14            0   260957  1286748037       0_9            2     1286745434   \n",
       "...         ...      ...         ...       ...          ...            ...   \n",
       "6442867  196578  1160482  1276339638  196578_1            2     1276339638   \n",
       "6442871  196578   467635  1276270978  196578_0            4     1276262794   \n",
       "6442873  196578   797460  1276270940  196578_0            4     1276262794   \n",
       "6442887  196578   906885  1276263146  196578_0            4     1276262794   \n",
       "6442889  196578  1174322  1276262794  196578_0            4     1276262794   \n",
       "\n",
       "         session_end  \n",
       "8         1286899040  \n",
       "9         1286899040  \n",
       "11        1286828480  \n",
       "12        1286828480  \n",
       "14        1286748037  \n",
       "...              ...  \n",
       "6442867   1276341536  \n",
       "6442871   1276270978  \n",
       "6442873   1276270978  \n",
       "6442887   1276270978  \n",
       "6442889   1276270978  \n",
       "\n",
       "[1047619 rows x 7 columns]"
      ]
     },
     "execution_count": 5,
     "metadata": {},
     "output_type": "execute_result"
    }
   ],
   "source": [
    "df['session_start'] = gs.timestamp.transform('min')\n",
    "df['session_end'] = gs.timestamp.transform('max')\n",
    "df"
   ]
  },
  {
   "cell_type": "code",
   "execution_count": 6,
   "metadata": {
    "ExecuteTime": {
     "end_time": "2020-05-17T02:32:56.843807Z",
     "start_time": "2020-05-17T02:32:56.158810Z"
    }
   },
   "outputs": [
    {
     "data": {
      "text/html": [
       "<div>\n",
       "<style scoped>\n",
       "    .dataframe tbody tr th:only-of-type {\n",
       "        vertical-align: middle;\n",
       "    }\n",
       "\n",
       "    .dataframe tbody tr th {\n",
       "        vertical-align: top;\n",
       "    }\n",
       "\n",
       "    .dataframe thead th {\n",
       "        text-align: right;\n",
       "    }\n",
       "</style>\n",
       "<table border=\"1\" class=\"dataframe\">\n",
       "  <thead>\n",
       "    <tr style=\"text-align: right;\">\n",
       "      <th></th>\n",
       "      <th>user</th>\n",
       "      <th>item</th>\n",
       "      <th>timestamp</th>\n",
       "      <th>sessionId</th>\n",
       "      <th>session_len</th>\n",
       "      <th>session_start</th>\n",
       "      <th>session_end</th>\n",
       "      <th>last_sessionId</th>\n",
       "    </tr>\n",
       "  </thead>\n",
       "  <tbody>\n",
       "    <tr>\n",
       "      <th>8</th>\n",
       "      <td>0</td>\n",
       "      <td>153505</td>\n",
       "      <td>1286899040</td>\n",
       "      <td>0_11</td>\n",
       "      <td>2</td>\n",
       "      <td>1286896743</td>\n",
       "      <td>1286899040</td>\n",
       "      <td>0_10</td>\n",
       "    </tr>\n",
       "    <tr>\n",
       "      <th>9</th>\n",
       "      <td>0</td>\n",
       "      <td>420315</td>\n",
       "      <td>1286896743</td>\n",
       "      <td>0_11</td>\n",
       "      <td>2</td>\n",
       "      <td>1286896743</td>\n",
       "      <td>1286899040</td>\n",
       "      <td>0_10</td>\n",
       "    </tr>\n",
       "    <tr>\n",
       "      <th>11</th>\n",
       "      <td>0</td>\n",
       "      <td>16907</td>\n",
       "      <td>1286828480</td>\n",
       "      <td>0_10</td>\n",
       "      <td>2</td>\n",
       "      <td>1286828442</td>\n",
       "      <td>1286828480</td>\n",
       "      <td>0_9</td>\n",
       "    </tr>\n",
       "    <tr>\n",
       "      <th>12</th>\n",
       "      <td>0</td>\n",
       "      <td>12973</td>\n",
       "      <td>1286828442</td>\n",
       "      <td>0_10</td>\n",
       "      <td>2</td>\n",
       "      <td>1286828442</td>\n",
       "      <td>1286828480</td>\n",
       "      <td>0_9</td>\n",
       "    </tr>\n",
       "    <tr>\n",
       "      <th>14</th>\n",
       "      <td>0</td>\n",
       "      <td>260957</td>\n",
       "      <td>1286748037</td>\n",
       "      <td>0_9</td>\n",
       "      <td>2</td>\n",
       "      <td>1286745434</td>\n",
       "      <td>1286748037</td>\n",
       "      <td>0_8</td>\n",
       "    </tr>\n",
       "    <tr>\n",
       "      <th>...</th>\n",
       "      <td>...</td>\n",
       "      <td>...</td>\n",
       "      <td>...</td>\n",
       "      <td>...</td>\n",
       "      <td>...</td>\n",
       "      <td>...</td>\n",
       "      <td>...</td>\n",
       "      <td>...</td>\n",
       "    </tr>\n",
       "    <tr>\n",
       "      <th>6442867</th>\n",
       "      <td>196578</td>\n",
       "      <td>1160482</td>\n",
       "      <td>1276339638</td>\n",
       "      <td>196578_1</td>\n",
       "      <td>2</td>\n",
       "      <td>1276339638</td>\n",
       "      <td>1276341536</td>\n",
       "      <td>196578_0</td>\n",
       "    </tr>\n",
       "    <tr>\n",
       "      <th>6442871</th>\n",
       "      <td>196578</td>\n",
       "      <td>467635</td>\n",
       "      <td>1276270978</td>\n",
       "      <td>196578_0</td>\n",
       "      <td>4</td>\n",
       "      <td>1276262794</td>\n",
       "      <td>1276270978</td>\n",
       "      <td>196578_-1</td>\n",
       "    </tr>\n",
       "    <tr>\n",
       "      <th>6442873</th>\n",
       "      <td>196578</td>\n",
       "      <td>797460</td>\n",
       "      <td>1276270940</td>\n",
       "      <td>196578_0</td>\n",
       "      <td>4</td>\n",
       "      <td>1276262794</td>\n",
       "      <td>1276270978</td>\n",
       "      <td>196578_-1</td>\n",
       "    </tr>\n",
       "    <tr>\n",
       "      <th>6442887</th>\n",
       "      <td>196578</td>\n",
       "      <td>906885</td>\n",
       "      <td>1276263146</td>\n",
       "      <td>196578_0</td>\n",
       "      <td>4</td>\n",
       "      <td>1276262794</td>\n",
       "      <td>1276270978</td>\n",
       "      <td>196578_-1</td>\n",
       "    </tr>\n",
       "    <tr>\n",
       "      <th>6442889</th>\n",
       "      <td>196578</td>\n",
       "      <td>1174322</td>\n",
       "      <td>1276262794</td>\n",
       "      <td>196578_0</td>\n",
       "      <td>4</td>\n",
       "      <td>1276262794</td>\n",
       "      <td>1276270978</td>\n",
       "      <td>196578_-1</td>\n",
       "    </tr>\n",
       "  </tbody>\n",
       "</table>\n",
       "<p>1047619 rows × 8 columns</p>\n",
       "</div>"
      ],
      "text/plain": [
       "           user     item   timestamp sessionId  session_len  session_start  \\\n",
       "8             0   153505  1286899040      0_11            2     1286896743   \n",
       "9             0   420315  1286896743      0_11            2     1286896743   \n",
       "11            0    16907  1286828480      0_10            2     1286828442   \n",
       "12            0    12973  1286828442      0_10            2     1286828442   \n",
       "14            0   260957  1286748037       0_9            2     1286745434   \n",
       "...         ...      ...         ...       ...          ...            ...   \n",
       "6442867  196578  1160482  1276339638  196578_1            2     1276339638   \n",
       "6442871  196578   467635  1276270978  196578_0            4     1276262794   \n",
       "6442873  196578   797460  1276270940  196578_0            4     1276262794   \n",
       "6442887  196578   906885  1276263146  196578_0            4     1276262794   \n",
       "6442889  196578  1174322  1276262794  196578_0            4     1276262794   \n",
       "\n",
       "         session_end last_sessionId  \n",
       "8         1286899040           0_10  \n",
       "9         1286899040           0_10  \n",
       "11        1286828480            0_9  \n",
       "12        1286828480            0_9  \n",
       "14        1286748037            0_8  \n",
       "...              ...            ...  \n",
       "6442867   1276341536       196578_0  \n",
       "6442871   1276270978      196578_-1  \n",
       "6442873   1276270978      196578_-1  \n",
       "6442887   1276270978      196578_-1  \n",
       "6442889   1276270978      196578_-1  \n",
       "\n",
       "[1047619 rows x 8 columns]"
      ]
     },
     "execution_count": 6,
     "metadata": {},
     "output_type": "execute_result"
    }
   ],
   "source": [
    "def last_sid(sid):\n",
    "    uid,csid = sid.split('_')\n",
    "    return uid+'_'+str(int(csid)-1)\n",
    "df['last_sessionId']=df.sessionId.apply(last_sid)\n",
    "df"
   ]
  },
  {
   "cell_type": "code",
   "execution_count": 7,
   "metadata": {
    "ExecuteTime": {
     "end_time": "2020-05-17T02:33:00.755108Z",
     "start_time": "2020-05-17T02:33:00.138076Z"
    }
   },
   "outputs": [
    {
     "data": {
      "text/html": [
       "<div>\n",
       "<style scoped>\n",
       "    .dataframe tbody tr th:only-of-type {\n",
       "        vertical-align: middle;\n",
       "    }\n",
       "\n",
       "    .dataframe tbody tr th {\n",
       "        vertical-align: top;\n",
       "    }\n",
       "\n",
       "    .dataframe thead th {\n",
       "        text-align: right;\n",
       "    }\n",
       "</style>\n",
       "<table border=\"1\" class=\"dataframe\">\n",
       "  <thead>\n",
       "    <tr style=\"text-align: right;\">\n",
       "      <th></th>\n",
       "      <th>user</th>\n",
       "      <th>item</th>\n",
       "      <th>timestamp</th>\n",
       "      <th>sessionId</th>\n",
       "      <th>session_len</th>\n",
       "      <th>session_start</th>\n",
       "      <th>session_end</th>\n",
       "      <th>last_sessionId</th>\n",
       "      <th>last_session_endtime</th>\n",
       "      <th>idle_time</th>\n",
       "    </tr>\n",
       "  </thead>\n",
       "  <tbody>\n",
       "    <tr>\n",
       "      <th>8</th>\n",
       "      <td>0</td>\n",
       "      <td>153505</td>\n",
       "      <td>1286899040</td>\n",
       "      <td>0_11</td>\n",
       "      <td>2</td>\n",
       "      <td>1286896743</td>\n",
       "      <td>1286899040</td>\n",
       "      <td>0_10</td>\n",
       "      <td>1.286828e+09</td>\n",
       "      <td>68263.0</td>\n",
       "    </tr>\n",
       "    <tr>\n",
       "      <th>9</th>\n",
       "      <td>0</td>\n",
       "      <td>420315</td>\n",
       "      <td>1286896743</td>\n",
       "      <td>0_11</td>\n",
       "      <td>2</td>\n",
       "      <td>1286896743</td>\n",
       "      <td>1286899040</td>\n",
       "      <td>0_10</td>\n",
       "      <td>1.286828e+09</td>\n",
       "      <td>68263.0</td>\n",
       "    </tr>\n",
       "    <tr>\n",
       "      <th>11</th>\n",
       "      <td>0</td>\n",
       "      <td>16907</td>\n",
       "      <td>1286828480</td>\n",
       "      <td>0_10</td>\n",
       "      <td>2</td>\n",
       "      <td>1286828442</td>\n",
       "      <td>1286828480</td>\n",
       "      <td>0_9</td>\n",
       "      <td>1.286748e+09</td>\n",
       "      <td>80405.0</td>\n",
       "    </tr>\n",
       "    <tr>\n",
       "      <th>12</th>\n",
       "      <td>0</td>\n",
       "      <td>12973</td>\n",
       "      <td>1286828442</td>\n",
       "      <td>0_10</td>\n",
       "      <td>2</td>\n",
       "      <td>1286828442</td>\n",
       "      <td>1286828480</td>\n",
       "      <td>0_9</td>\n",
       "      <td>1.286748e+09</td>\n",
       "      <td>80405.0</td>\n",
       "    </tr>\n",
       "    <tr>\n",
       "      <th>14</th>\n",
       "      <td>0</td>\n",
       "      <td>260957</td>\n",
       "      <td>1286748037</td>\n",
       "      <td>0_9</td>\n",
       "      <td>2</td>\n",
       "      <td>1286745434</td>\n",
       "      <td>1286748037</td>\n",
       "      <td>0_8</td>\n",
       "      <td>1.286663e+09</td>\n",
       "      <td>82207.0</td>\n",
       "    </tr>\n",
       "    <tr>\n",
       "      <th>...</th>\n",
       "      <td>...</td>\n",
       "      <td>...</td>\n",
       "      <td>...</td>\n",
       "      <td>...</td>\n",
       "      <td>...</td>\n",
       "      <td>...</td>\n",
       "      <td>...</td>\n",
       "      <td>...</td>\n",
       "      <td>...</td>\n",
       "      <td>...</td>\n",
       "    </tr>\n",
       "    <tr>\n",
       "      <th>6442867</th>\n",
       "      <td>196578</td>\n",
       "      <td>1160482</td>\n",
       "      <td>1276339638</td>\n",
       "      <td>196578_1</td>\n",
       "      <td>2</td>\n",
       "      <td>1276339638</td>\n",
       "      <td>1276341536</td>\n",
       "      <td>196578_0</td>\n",
       "      <td>1.276271e+09</td>\n",
       "      <td>68660.0</td>\n",
       "    </tr>\n",
       "    <tr>\n",
       "      <th>6442871</th>\n",
       "      <td>196578</td>\n",
       "      <td>467635</td>\n",
       "      <td>1276270978</td>\n",
       "      <td>196578_0</td>\n",
       "      <td>4</td>\n",
       "      <td>1276262794</td>\n",
       "      <td>1276270978</td>\n",
       "      <td>196578_-1</td>\n",
       "      <td>NaN</td>\n",
       "      <td>NaN</td>\n",
       "    </tr>\n",
       "    <tr>\n",
       "      <th>6442873</th>\n",
       "      <td>196578</td>\n",
       "      <td>797460</td>\n",
       "      <td>1276270940</td>\n",
       "      <td>196578_0</td>\n",
       "      <td>4</td>\n",
       "      <td>1276262794</td>\n",
       "      <td>1276270978</td>\n",
       "      <td>196578_-1</td>\n",
       "      <td>NaN</td>\n",
       "      <td>NaN</td>\n",
       "    </tr>\n",
       "    <tr>\n",
       "      <th>6442887</th>\n",
       "      <td>196578</td>\n",
       "      <td>906885</td>\n",
       "      <td>1276263146</td>\n",
       "      <td>196578_0</td>\n",
       "      <td>4</td>\n",
       "      <td>1276262794</td>\n",
       "      <td>1276270978</td>\n",
       "      <td>196578_-1</td>\n",
       "      <td>NaN</td>\n",
       "      <td>NaN</td>\n",
       "    </tr>\n",
       "    <tr>\n",
       "      <th>6442889</th>\n",
       "      <td>196578</td>\n",
       "      <td>1174322</td>\n",
       "      <td>1276262794</td>\n",
       "      <td>196578_0</td>\n",
       "      <td>4</td>\n",
       "      <td>1276262794</td>\n",
       "      <td>1276270978</td>\n",
       "      <td>196578_-1</td>\n",
       "      <td>NaN</td>\n",
       "      <td>NaN</td>\n",
       "    </tr>\n",
       "  </tbody>\n",
       "</table>\n",
       "<p>1047619 rows × 10 columns</p>\n",
       "</div>"
      ],
      "text/plain": [
       "           user     item   timestamp sessionId  session_len  session_start  \\\n",
       "8             0   153505  1286899040      0_11            2     1286896743   \n",
       "9             0   420315  1286896743      0_11            2     1286896743   \n",
       "11            0    16907  1286828480      0_10            2     1286828442   \n",
       "12            0    12973  1286828442      0_10            2     1286828442   \n",
       "14            0   260957  1286748037       0_9            2     1286745434   \n",
       "...         ...      ...         ...       ...          ...            ...   \n",
       "6442867  196578  1160482  1276339638  196578_1            2     1276339638   \n",
       "6442871  196578   467635  1276270978  196578_0            4     1276262794   \n",
       "6442873  196578   797460  1276270940  196578_0            4     1276262794   \n",
       "6442887  196578   906885  1276263146  196578_0            4     1276262794   \n",
       "6442889  196578  1174322  1276262794  196578_0            4     1276262794   \n",
       "\n",
       "         session_end last_sessionId  last_session_endtime  idle_time  \n",
       "8         1286899040           0_10          1.286828e+09    68263.0  \n",
       "9         1286899040           0_10          1.286828e+09    68263.0  \n",
       "11        1286828480            0_9          1.286748e+09    80405.0  \n",
       "12        1286828480            0_9          1.286748e+09    80405.0  \n",
       "14        1286748037            0_8          1.286663e+09    82207.0  \n",
       "...              ...            ...                   ...        ...  \n",
       "6442867   1276341536       196578_0          1.276271e+09    68660.0  \n",
       "6442871   1276270978      196578_-1                   NaN        NaN  \n",
       "6442873   1276270978      196578_-1                   NaN        NaN  \n",
       "6442887   1276270978      196578_-1                   NaN        NaN  \n",
       "6442889   1276270978      196578_-1                   NaN        NaN  \n",
       "\n",
       "[1047619 rows x 10 columns]"
      ]
     },
     "execution_count": 7,
     "metadata": {},
     "output_type": "execute_result"
    }
   ],
   "source": [
    "df['last_session_endtime']=df.last_sessionId.map(df.groupby('sessionId').session_end.max())\n",
    "df['idle_time'] = df.session_start - df.last_session_endtime\n",
    "df"
   ]
  },
  {
   "cell_type": "code",
   "execution_count": 8,
   "metadata": {
    "ExecuteTime": {
     "end_time": "2020-05-16T01:46:20.541078Z",
     "start_time": "2020-05-16T01:46:20.333048Z"
    }
   },
   "outputs": [
    {
     "data": {
      "text/html": [
       "<div>\n",
       "<style scoped>\n",
       "    .dataframe tbody tr th:only-of-type {\n",
       "        vertical-align: middle;\n",
       "    }\n",
       "\n",
       "    .dataframe tbody tr th {\n",
       "        vertical-align: top;\n",
       "    }\n",
       "\n",
       "    .dataframe thead th {\n",
       "        text-align: right;\n",
       "    }\n",
       "</style>\n",
       "<table border=\"1\" class=\"dataframe\">\n",
       "  <thead>\n",
       "    <tr style=\"text-align: right;\">\n",
       "      <th></th>\n",
       "      <th>sessionId</th>\n",
       "      <th>session_len</th>\n",
       "      <th>idle_time</th>\n",
       "    </tr>\n",
       "  </thead>\n",
       "  <tbody>\n",
       "    <tr>\n",
       "      <th>8</th>\n",
       "      <td>0_11</td>\n",
       "      <td>2</td>\n",
       "      <td>68263.0</td>\n",
       "    </tr>\n",
       "    <tr>\n",
       "      <th>11</th>\n",
       "      <td>0_10</td>\n",
       "      <td>2</td>\n",
       "      <td>80405.0</td>\n",
       "    </tr>\n",
       "    <tr>\n",
       "      <th>14</th>\n",
       "      <td>0_9</td>\n",
       "      <td>2</td>\n",
       "      <td>82207.0</td>\n",
       "    </tr>\n",
       "    <tr>\n",
       "      <th>18</th>\n",
       "      <td>0_8</td>\n",
       "      <td>4</td>\n",
       "      <td>83806.0</td>\n",
       "    </tr>\n",
       "    <tr>\n",
       "      <th>24</th>\n",
       "      <td>0_7</td>\n",
       "      <td>4</td>\n",
       "      <td>77714.0</td>\n",
       "    </tr>\n",
       "    <tr>\n",
       "      <th>...</th>\n",
       "      <td>...</td>\n",
       "      <td>...</td>\n",
       "      <td>...</td>\n",
       "    </tr>\n",
       "    <tr>\n",
       "      <th>6442821</th>\n",
       "      <td>196561_2</td>\n",
       "      <td>2</td>\n",
       "      <td>155072.0</td>\n",
       "    </tr>\n",
       "    <tr>\n",
       "      <th>6442831</th>\n",
       "      <td>196561_1</td>\n",
       "      <td>4</td>\n",
       "      <td>66532.0</td>\n",
       "    </tr>\n",
       "    <tr>\n",
       "      <th>6442836</th>\n",
       "      <td>196561_0</td>\n",
       "      <td>2</td>\n",
       "      <td>NaN</td>\n",
       "    </tr>\n",
       "    <tr>\n",
       "      <th>6442866</th>\n",
       "      <td>196578_1</td>\n",
       "      <td>2</td>\n",
       "      <td>68660.0</td>\n",
       "    </tr>\n",
       "    <tr>\n",
       "      <th>6442871</th>\n",
       "      <td>196578_0</td>\n",
       "      <td>4</td>\n",
       "      <td>NaN</td>\n",
       "    </tr>\n",
       "  </tbody>\n",
       "</table>\n",
       "<p>329159 rows × 3 columns</p>\n",
       "</div>"
      ],
      "text/plain": [
       "        sessionId  session_len  idle_time\n",
       "8            0_11            2    68263.0\n",
       "11           0_10            2    80405.0\n",
       "14            0_9            2    82207.0\n",
       "18            0_8            4    83806.0\n",
       "24            0_7            4    77714.0\n",
       "...           ...          ...        ...\n",
       "6442821  196561_2            2   155072.0\n",
       "6442831  196561_1            4    66532.0\n",
       "6442836  196561_0            2        NaN\n",
       "6442866  196578_1            2    68660.0\n",
       "6442871  196578_0            4        NaN\n",
       "\n",
       "[329159 rows x 3 columns]"
      ]
     },
     "execution_count": 8,
     "metadata": {},
     "output_type": "execute_result"
    }
   ],
   "source": [
    "len_idle = df[['sessionId','session_len','idle_time']].drop_duplicates()\n",
    "len_idle"
   ]
  },
  {
   "cell_type": "code",
   "execution_count": 48,
   "metadata": {
    "ExecuteTime": {
     "end_time": "2020-05-16T06:14:28.211672Z",
     "start_time": "2020-05-16T06:14:27.939675Z"
    }
   },
   "outputs": [
    {
     "data": {
      "text/plain": [
       "<matplotlib.axes._subplots.AxesSubplot at 0x1cb1044c708>"
      ]
     },
     "execution_count": 48,
     "metadata": {},
     "output_type": "execute_result"
    },
    {
     "data": {
      "image/png": "[encoded data removed]",
      "text/plain": [
       "<Figure size 432x288 with 1 Axes>"
      ]
     },
     "metadata": {
      "needs_background": "light"
     },
     "output_type": "display_data"
    }
   ],
   "source": [
    "len_idle.idle_time.hist(bins=100)"
   ]
  },
  {
   "cell_type": "code",
   "execution_count": 9,
   "metadata": {
    "ExecuteTime": {
     "end_time": "2020-05-16T01:46:20.721077Z",
     "start_time": "2020-05-16T01:46:20.542048Z"
    }
   },
   "outputs": [
    {
     "data": {
      "text/html": [
       "<div>\n",
       "<style scoped>\n",
       "    .dataframe tbody tr th:only-of-type {\n",
       "        vertical-align: middle;\n",
       "    }\n",
       "\n",
       "    .dataframe tbody tr th {\n",
       "        vertical-align: top;\n",
       "    }\n",
       "\n",
       "    .dataframe thead th {\n",
       "        text-align: right;\n",
       "    }\n",
       "</style>\n",
       "<table border=\"1\" class=\"dataframe\">\n",
       "  <thead>\n",
       "    <tr style=\"text-align: right;\">\n",
       "      <th></th>\n",
       "      <th>user</th>\n",
       "      <th>sessionId</th>\n",
       "      <th>session_len</th>\n",
       "    </tr>\n",
       "  </thead>\n",
       "  <tbody>\n",
       "    <tr>\n",
       "      <th>8</th>\n",
       "      <td>0</td>\n",
       "      <td>0_11</td>\n",
       "      <td>2</td>\n",
       "    </tr>\n",
       "    <tr>\n",
       "      <th>11</th>\n",
       "      <td>0</td>\n",
       "      <td>0_10</td>\n",
       "      <td>2</td>\n",
       "    </tr>\n",
       "    <tr>\n",
       "      <th>14</th>\n",
       "      <td>0</td>\n",
       "      <td>0_9</td>\n",
       "      <td>2</td>\n",
       "    </tr>\n",
       "    <tr>\n",
       "      <th>18</th>\n",
       "      <td>0</td>\n",
       "      <td>0_8</td>\n",
       "      <td>4</td>\n",
       "    </tr>\n",
       "    <tr>\n",
       "      <th>24</th>\n",
       "      <td>0</td>\n",
       "      <td>0_7</td>\n",
       "      <td>4</td>\n",
       "    </tr>\n",
       "    <tr>\n",
       "      <th>...</th>\n",
       "      <td>...</td>\n",
       "      <td>...</td>\n",
       "      <td>...</td>\n",
       "    </tr>\n",
       "    <tr>\n",
       "      <th>6442821</th>\n",
       "      <td>196561</td>\n",
       "      <td>196561_2</td>\n",
       "      <td>2</td>\n",
       "    </tr>\n",
       "    <tr>\n",
       "      <th>6442831</th>\n",
       "      <td>196561</td>\n",
       "      <td>196561_1</td>\n",
       "      <td>4</td>\n",
       "    </tr>\n",
       "    <tr>\n",
       "      <th>6442836</th>\n",
       "      <td>196561</td>\n",
       "      <td>196561_0</td>\n",
       "      <td>2</td>\n",
       "    </tr>\n",
       "    <tr>\n",
       "      <th>6442866</th>\n",
       "      <td>196578</td>\n",
       "      <td>196578_1</td>\n",
       "      <td>2</td>\n",
       "    </tr>\n",
       "    <tr>\n",
       "      <th>6442871</th>\n",
       "      <td>196578</td>\n",
       "      <td>196578_0</td>\n",
       "      <td>4</td>\n",
       "    </tr>\n",
       "  </tbody>\n",
       "</table>\n",
       "<p>329159 rows × 3 columns</p>\n",
       "</div>"
      ],
      "text/plain": [
       "           user sessionId  session_len\n",
       "8             0      0_11            2\n",
       "11            0      0_10            2\n",
       "14            0       0_9            2\n",
       "18            0       0_8            4\n",
       "24            0       0_7            4\n",
       "...         ...       ...          ...\n",
       "6442821  196561  196561_2            2\n",
       "6442831  196561  196561_1            4\n",
       "6442836  196561  196561_0            2\n",
       "6442866  196578  196578_1            2\n",
       "6442871  196578  196578_0            4\n",
       "\n",
       "[329159 rows x 3 columns]"
      ]
     },
     "execution_count": 9,
     "metadata": {},
     "output_type": "execute_result"
    }
   ],
   "source": [
    "usr_slen = df[['user','sessionId','session_len']].drop_duplicates()\n",
    "usr_slen"
   ]
  },
  {
   "cell_type": "code",
   "execution_count": 10,
   "metadata": {
    "ExecuteTime": {
     "end_time": "2020-05-16T01:46:20.736077Z",
     "start_time": "2020-05-16T01:46:20.722048Z"
    }
   },
   "outputs": [
    {
     "data": {
      "text/html": [
       "<div>\n",
       "<style scoped>\n",
       "    .dataframe tbody tr th:only-of-type {\n",
       "        vertical-align: middle;\n",
       "    }\n",
       "\n",
       "    .dataframe tbody tr th {\n",
       "        vertical-align: top;\n",
       "    }\n",
       "\n",
       "    .dataframe thead th {\n",
       "        text-align: right;\n",
       "    }\n",
       "</style>\n",
       "<table border=\"1\" class=\"dataframe\">\n",
       "  <thead>\n",
       "    <tr style=\"text-align: right;\">\n",
       "      <th></th>\n",
       "      <th>user</th>\n",
       "      <th>item</th>\n",
       "      <th>timestamp</th>\n",
       "      <th>sessionId</th>\n",
       "      <th>session_len</th>\n",
       "      <th>session_start</th>\n",
       "      <th>session_end</th>\n",
       "      <th>last_sessionId</th>\n",
       "      <th>last_session_endtime</th>\n",
       "      <th>idle_time</th>\n",
       "    </tr>\n",
       "  </thead>\n",
       "  <tbody>\n",
       "    <tr>\n",
       "      <th>8</th>\n",
       "      <td>0</td>\n",
       "      <td>153505</td>\n",
       "      <td>1286899040</td>\n",
       "      <td>0_11</td>\n",
       "      <td>2</td>\n",
       "      <td>1286896743</td>\n",
       "      <td>1286899040</td>\n",
       "      <td>0_10</td>\n",
       "      <td>1.286828e+09</td>\n",
       "      <td>68263.0</td>\n",
       "    </tr>\n",
       "    <tr>\n",
       "      <th>9</th>\n",
       "      <td>0</td>\n",
       "      <td>420315</td>\n",
       "      <td>1286896743</td>\n",
       "      <td>0_11</td>\n",
       "      <td>2</td>\n",
       "      <td>1286896743</td>\n",
       "      <td>1286899040</td>\n",
       "      <td>0_10</td>\n",
       "      <td>1.286828e+09</td>\n",
       "      <td>68263.0</td>\n",
       "    </tr>\n",
       "    <tr>\n",
       "      <th>11</th>\n",
       "      <td>0</td>\n",
       "      <td>16907</td>\n",
       "      <td>1286828480</td>\n",
       "      <td>0_10</td>\n",
       "      <td>2</td>\n",
       "      <td>1286828442</td>\n",
       "      <td>1286828480</td>\n",
       "      <td>0_9</td>\n",
       "      <td>1.286748e+09</td>\n",
       "      <td>80405.0</td>\n",
       "    </tr>\n",
       "    <tr>\n",
       "      <th>12</th>\n",
       "      <td>0</td>\n",
       "      <td>12973</td>\n",
       "      <td>1286828442</td>\n",
       "      <td>0_10</td>\n",
       "      <td>2</td>\n",
       "      <td>1286828442</td>\n",
       "      <td>1286828480</td>\n",
       "      <td>0_9</td>\n",
       "      <td>1.286748e+09</td>\n",
       "      <td>80405.0</td>\n",
       "    </tr>\n",
       "    <tr>\n",
       "      <th>14</th>\n",
       "      <td>0</td>\n",
       "      <td>260957</td>\n",
       "      <td>1286748037</td>\n",
       "      <td>0_9</td>\n",
       "      <td>2</td>\n",
       "      <td>1286745434</td>\n",
       "      <td>1286748037</td>\n",
       "      <td>0_8</td>\n",
       "      <td>1.286663e+09</td>\n",
       "      <td>82207.0</td>\n",
       "    </tr>\n",
       "    <tr>\n",
       "      <th>...</th>\n",
       "      <td>...</td>\n",
       "      <td>...</td>\n",
       "      <td>...</td>\n",
       "      <td>...</td>\n",
       "      <td>...</td>\n",
       "      <td>...</td>\n",
       "      <td>...</td>\n",
       "      <td>...</td>\n",
       "      <td>...</td>\n",
       "      <td>...</td>\n",
       "    </tr>\n",
       "    <tr>\n",
       "      <th>6442867</th>\n",
       "      <td>196578</td>\n",
       "      <td>1160482</td>\n",
       "      <td>1276339638</td>\n",
       "      <td>196578_1</td>\n",
       "      <td>2</td>\n",
       "      <td>1276339638</td>\n",
       "      <td>1276341536</td>\n",
       "      <td>196578_0</td>\n",
       "      <td>1.276271e+09</td>\n",
       "      <td>68660.0</td>\n",
       "    </tr>\n",
       "    <tr>\n",
       "      <th>6442871</th>\n",
       "      <td>196578</td>\n",
       "      <td>467635</td>\n",
       "      <td>1276270978</td>\n",
       "      <td>196578_0</td>\n",
       "      <td>4</td>\n",
       "      <td>1276262794</td>\n",
       "      <td>1276270978</td>\n",
       "      <td>196578_-1</td>\n",
       "      <td>NaN</td>\n",
       "      <td>NaN</td>\n",
       "    </tr>\n",
       "    <tr>\n",
       "      <th>6442873</th>\n",
       "      <td>196578</td>\n",
       "      <td>797460</td>\n",
       "      <td>1276270940</td>\n",
       "      <td>196578_0</td>\n",
       "      <td>4</td>\n",
       "      <td>1276262794</td>\n",
       "      <td>1276270978</td>\n",
       "      <td>196578_-1</td>\n",
       "      <td>NaN</td>\n",
       "      <td>NaN</td>\n",
       "    </tr>\n",
       "    <tr>\n",
       "      <th>6442887</th>\n",
       "      <td>196578</td>\n",
       "      <td>906885</td>\n",
       "      <td>1276263146</td>\n",
       "      <td>196578_0</td>\n",
       "      <td>4</td>\n",
       "      <td>1276262794</td>\n",
       "      <td>1276270978</td>\n",
       "      <td>196578_-1</td>\n",
       "      <td>NaN</td>\n",
       "      <td>NaN</td>\n",
       "    </tr>\n",
       "    <tr>\n",
       "      <th>6442889</th>\n",
       "      <td>196578</td>\n",
       "      <td>1174322</td>\n",
       "      <td>1276262794</td>\n",
       "      <td>196578_0</td>\n",
       "      <td>4</td>\n",
       "      <td>1276262794</td>\n",
       "      <td>1276270978</td>\n",
       "      <td>196578_-1</td>\n",
       "      <td>NaN</td>\n",
       "      <td>NaN</td>\n",
       "    </tr>\n",
       "  </tbody>\n",
       "</table>\n",
       "<p>1047619 rows × 10 columns</p>\n",
       "</div>"
      ],
      "text/plain": [
       "           user     item   timestamp sessionId  session_len  session_start  \\\n",
       "8             0   153505  1286899040      0_11            2     1286896743   \n",
       "9             0   420315  1286896743      0_11            2     1286896743   \n",
       "11            0    16907  1286828480      0_10            2     1286828442   \n",
       "12            0    12973  1286828442      0_10            2     1286828442   \n",
       "14            0   260957  1286748037       0_9            2     1286745434   \n",
       "...         ...      ...         ...       ...          ...            ...   \n",
       "6442867  196578  1160482  1276339638  196578_1            2     1276339638   \n",
       "6442871  196578   467635  1276270978  196578_0            4     1276262794   \n",
       "6442873  196578   797460  1276270940  196578_0            4     1276262794   \n",
       "6442887  196578   906885  1276263146  196578_0            4     1276262794   \n",
       "6442889  196578  1174322  1276262794  196578_0            4     1276262794   \n",
       "\n",
       "         session_end last_sessionId  last_session_endtime  idle_time  \n",
       "8         1286899040           0_10          1.286828e+09    68263.0  \n",
       "9         1286899040           0_10          1.286828e+09    68263.0  \n",
       "11        1286828480            0_9          1.286748e+09    80405.0  \n",
       "12        1286828480            0_9          1.286748e+09    80405.0  \n",
       "14        1286748037            0_8          1.286663e+09    82207.0  \n",
       "...              ...            ...                   ...        ...  \n",
       "6442867   1276341536       196578_0          1.276271e+09    68660.0  \n",
       "6442871   1276270978      196578_-1                   NaN        NaN  \n",
       "6442873   1276270978      196578_-1                   NaN        NaN  \n",
       "6442887   1276270978      196578_-1                   NaN        NaN  \n",
       "6442889   1276270978      196578_-1                   NaN        NaN  \n",
       "\n",
       "[1047619 rows x 10 columns]"
      ]
     },
     "execution_count": 10,
     "metadata": {},
     "output_type": "execute_result"
    }
   ],
   "source": [
    "df"
   ]
  },
  {
   "cell_type": "code",
   "execution_count": 27,
   "metadata": {
    "ExecuteTime": {
     "end_time": "2020-05-17T04:42:19.236259Z",
     "start_time": "2020-05-17T04:40:44.092260Z"
    }
   },
   "outputs": [
    {
     "data": {
      "text/plain": [
       "<matplotlib.axes._subplots.AxesSubplot at 0x1fa88b4a7c8>"
      ]
     },
     "execution_count": 27,
     "metadata": {},
     "output_type": "execute_result"
    },
    {
     "data": {
      "image/png": "[encoded data removed]",
      "text/plain": [
       "<Figure size 432x288 with 1 Axes>"
      ]
     },
     "metadata": {
      "needs_background": "light"
     },
     "output_type": "display_data"
    }
   ],
   "source": [
    "t=df.groupby('sessionId').apply(lambda x: x.timestamp.argsort())\n",
    "df['session_itmidx'] = t.reset_index(level=0).rename(columns={'timestamp':'session_itmidx'}).session_itmidx\n",
    "df['session_rel_itmidx']=df['session_itmidx']/(df['session_len']-1)\n",
    "df.groupby('item').session_rel_itmidx.mean().hist(bins=20)"
   ]
  },
  {
   "cell_type": "markdown",
   "metadata": {},
   "source": [
    "有些item只做session的开始，有些只做session的结束"
   ]
  },
  {
   "cell_type": "code",
   "execution_count": 30,
   "metadata": {
    "ExecuteTime": {
     "end_time": "2020-05-17T04:47:36.016728Z",
     "start_time": "2020-05-17T04:47:35.916697Z"
    }
   },
   "outputs": [
    {
     "data": {
      "text/html": [
       "<div>\n",
       "<style scoped>\n",
       "    .dataframe tbody tr th:only-of-type {\n",
       "        vertical-align: middle;\n",
       "    }\n",
       "\n",
       "    .dataframe tbody tr th {\n",
       "        vertical-align: top;\n",
       "    }\n",
       "\n",
       "    .dataframe thead th {\n",
       "        text-align: right;\n",
       "    }\n",
       "</style>\n",
       "<table border=\"1\" class=\"dataframe\">\n",
       "  <thead>\n",
       "    <tr style=\"text-align: right;\">\n",
       "      <th></th>\n",
       "      <th>user</th>\n",
       "      <th>item</th>\n",
       "      <th>timestamp</th>\n",
       "      <th>sessionId</th>\n",
       "      <th>session_len</th>\n",
       "      <th>session_start</th>\n",
       "      <th>session_end</th>\n",
       "      <th>last_sessionId</th>\n",
       "      <th>last_session_endtime</th>\n",
       "      <th>idle_time</th>\n",
       "      <th>session_len_group</th>\n",
       "      <th>session_itmidx</th>\n",
       "      <th>session_rel_itmidx</th>\n",
       "      <th>item_count</th>\n",
       "    </tr>\n",
       "  </thead>\n",
       "  <tbody>\n",
       "    <tr>\n",
       "      <th>8</th>\n",
       "      <td>0</td>\n",
       "      <td>153505</td>\n",
       "      <td>1286899040</td>\n",
       "      <td>0_11</td>\n",
       "      <td>2</td>\n",
       "      <td>1286896743</td>\n",
       "      <td>1286899040</td>\n",
       "      <td>0_10</td>\n",
       "      <td>1.286828e+09</td>\n",
       "      <td>68263.0</td>\n",
       "      <td>0</td>\n",
       "      <td>1</td>\n",
       "      <td>1.000000</td>\n",
       "      <td>191</td>\n",
       "    </tr>\n",
       "    <tr>\n",
       "      <th>9</th>\n",
       "      <td>0</td>\n",
       "      <td>420315</td>\n",
       "      <td>1286896743</td>\n",
       "      <td>0_11</td>\n",
       "      <td>2</td>\n",
       "      <td>1286896743</td>\n",
       "      <td>1286899040</td>\n",
       "      <td>0_10</td>\n",
       "      <td>1.286828e+09</td>\n",
       "      <td>68263.0</td>\n",
       "      <td>0</td>\n",
       "      <td>0</td>\n",
       "      <td>0.000000</td>\n",
       "      <td>548</td>\n",
       "    </tr>\n",
       "    <tr>\n",
       "      <th>11</th>\n",
       "      <td>0</td>\n",
       "      <td>16907</td>\n",
       "      <td>1286828480</td>\n",
       "      <td>0_10</td>\n",
       "      <td>2</td>\n",
       "      <td>1286828442</td>\n",
       "      <td>1286828480</td>\n",
       "      <td>0_9</td>\n",
       "      <td>1.286748e+09</td>\n",
       "      <td>80405.0</td>\n",
       "      <td>0</td>\n",
       "      <td>1</td>\n",
       "      <td>1.000000</td>\n",
       "      <td>113</td>\n",
       "    </tr>\n",
       "    <tr>\n",
       "      <th>12</th>\n",
       "      <td>0</td>\n",
       "      <td>12973</td>\n",
       "      <td>1286828442</td>\n",
       "      <td>0_10</td>\n",
       "      <td>2</td>\n",
       "      <td>1286828442</td>\n",
       "      <td>1286828480</td>\n",
       "      <td>0_9</td>\n",
       "      <td>1.286748e+09</td>\n",
       "      <td>80405.0</td>\n",
       "      <td>0</td>\n",
       "      <td>0</td>\n",
       "      <td>0.000000</td>\n",
       "      <td>111</td>\n",
       "    </tr>\n",
       "    <tr>\n",
       "      <th>14</th>\n",
       "      <td>0</td>\n",
       "      <td>260957</td>\n",
       "      <td>1286748037</td>\n",
       "      <td>0_9</td>\n",
       "      <td>2</td>\n",
       "      <td>1286745434</td>\n",
       "      <td>1286748037</td>\n",
       "      <td>0_8</td>\n",
       "      <td>1.286663e+09</td>\n",
       "      <td>82207.0</td>\n",
       "      <td>0</td>\n",
       "      <td>1</td>\n",
       "      <td>1.000000</td>\n",
       "      <td>10</td>\n",
       "    </tr>\n",
       "    <tr>\n",
       "      <th>...</th>\n",
       "      <td>...</td>\n",
       "      <td>...</td>\n",
       "      <td>...</td>\n",
       "      <td>...</td>\n",
       "      <td>...</td>\n",
       "      <td>...</td>\n",
       "      <td>...</td>\n",
       "      <td>...</td>\n",
       "      <td>...</td>\n",
       "      <td>...</td>\n",
       "      <td>...</td>\n",
       "      <td>...</td>\n",
       "      <td>...</td>\n",
       "      <td>...</td>\n",
       "    </tr>\n",
       "    <tr>\n",
       "      <th>6442867</th>\n",
       "      <td>196578</td>\n",
       "      <td>1160482</td>\n",
       "      <td>1276339638</td>\n",
       "      <td>196578_1</td>\n",
       "      <td>2</td>\n",
       "      <td>1276339638</td>\n",
       "      <td>1276341536</td>\n",
       "      <td>196578_0</td>\n",
       "      <td>1.276271e+09</td>\n",
       "      <td>68660.0</td>\n",
       "      <td>0</td>\n",
       "      <td>0</td>\n",
       "      <td>0.000000</td>\n",
       "      <td>10</td>\n",
       "    </tr>\n",
       "    <tr>\n",
       "      <th>6442871</th>\n",
       "      <td>196578</td>\n",
       "      <td>467635</td>\n",
       "      <td>1276270978</td>\n",
       "      <td>196578_0</td>\n",
       "      <td>4</td>\n",
       "      <td>1276262794</td>\n",
       "      <td>1276270978</td>\n",
       "      <td>196578_-1</td>\n",
       "      <td>NaN</td>\n",
       "      <td>NaN</td>\n",
       "      <td>0</td>\n",
       "      <td>3</td>\n",
       "      <td>1.000000</td>\n",
       "      <td>10</td>\n",
       "    </tr>\n",
       "    <tr>\n",
       "      <th>6442873</th>\n",
       "      <td>196578</td>\n",
       "      <td>797460</td>\n",
       "      <td>1276270940</td>\n",
       "      <td>196578_0</td>\n",
       "      <td>4</td>\n",
       "      <td>1276262794</td>\n",
       "      <td>1276270978</td>\n",
       "      <td>196578_-1</td>\n",
       "      <td>NaN</td>\n",
       "      <td>NaN</td>\n",
       "      <td>0</td>\n",
       "      <td>2</td>\n",
       "      <td>0.666667</td>\n",
       "      <td>18</td>\n",
       "    </tr>\n",
       "    <tr>\n",
       "      <th>6442887</th>\n",
       "      <td>196578</td>\n",
       "      <td>906885</td>\n",
       "      <td>1276263146</td>\n",
       "      <td>196578_0</td>\n",
       "      <td>4</td>\n",
       "      <td>1276262794</td>\n",
       "      <td>1276270978</td>\n",
       "      <td>196578_-1</td>\n",
       "      <td>NaN</td>\n",
       "      <td>NaN</td>\n",
       "      <td>0</td>\n",
       "      <td>1</td>\n",
       "      <td>0.333333</td>\n",
       "      <td>11</td>\n",
       "    </tr>\n",
       "    <tr>\n",
       "      <th>6442889</th>\n",
       "      <td>196578</td>\n",
       "      <td>1174322</td>\n",
       "      <td>1276262794</td>\n",
       "      <td>196578_0</td>\n",
       "      <td>4</td>\n",
       "      <td>1276262794</td>\n",
       "      <td>1276270978</td>\n",
       "      <td>196578_-1</td>\n",
       "      <td>NaN</td>\n",
       "      <td>NaN</td>\n",
       "      <td>0</td>\n",
       "      <td>0</td>\n",
       "      <td>0.000000</td>\n",
       "      <td>10</td>\n",
       "    </tr>\n",
       "  </tbody>\n",
       "</table>\n",
       "<p>1047619 rows × 14 columns</p>\n",
       "</div>"
      ],
      "text/plain": [
       "           user     item   timestamp sessionId  session_len  session_start  \\\n",
       "8             0   153505  1286899040      0_11            2     1286896743   \n",
       "9             0   420315  1286896743      0_11            2     1286896743   \n",
       "11            0    16907  1286828480      0_10            2     1286828442   \n",
       "12            0    12973  1286828442      0_10            2     1286828442   \n",
       "14            0   260957  1286748037       0_9            2     1286745434   \n",
       "...         ...      ...         ...       ...          ...            ...   \n",
       "6442867  196578  1160482  1276339638  196578_1            2     1276339638   \n",
       "6442871  196578   467635  1276270978  196578_0            4     1276262794   \n",
       "6442873  196578   797460  1276270940  196578_0            4     1276262794   \n",
       "6442887  196578   906885  1276263146  196578_0            4     1276262794   \n",
       "6442889  196578  1174322  1276262794  196578_0            4     1276262794   \n",
       "\n",
       "         session_end last_sessionId  last_session_endtime  idle_time  \\\n",
       "8         1286899040           0_10          1.286828e+09    68263.0   \n",
       "9         1286899040           0_10          1.286828e+09    68263.0   \n",
       "11        1286828480            0_9          1.286748e+09    80405.0   \n",
       "12        1286828480            0_9          1.286748e+09    80405.0   \n",
       "14        1286748037            0_8          1.286663e+09    82207.0   \n",
       "...              ...            ...                   ...        ...   \n",
       "6442867   1276341536       196578_0          1.276271e+09    68660.0   \n",
       "6442871   1276270978      196578_-1                   NaN        NaN   \n",
       "6442873   1276270978      196578_-1                   NaN        NaN   \n",
       "6442887   1276270978      196578_-1                   NaN        NaN   \n",
       "6442889   1276270978      196578_-1                   NaN        NaN   \n",
       "\n",
       "         session_len_group  session_itmidx  session_rel_itmidx  item_count  \n",
       "8                        0               1            1.000000         191  \n",
       "9                        0               0            0.000000         548  \n",
       "11                       0               1            1.000000         113  \n",
       "12                       0               0            0.000000         111  \n",
       "14                       0               1            1.000000          10  \n",
       "...                    ...             ...                 ...         ...  \n",
       "6442867                  0               0            0.000000          10  \n",
       "6442871                  0               3            1.000000          10  \n",
       "6442873                  0               2            0.666667          18  \n",
       "6442887                  0               1            0.333333          11  \n",
       "6442889                  0               0            0.000000          10  \n",
       "\n",
       "[1047619 rows x 14 columns]"
      ]
     },
     "execution_count": 30,
     "metadata": {},
     "output_type": "execute_result"
    }
   ],
   "source": [
    "df['item_count'] = df.groupby('item').item.transform('size')\n",
    "df"
   ]
  },
  {
   "cell_type": "code",
   "execution_count": 39,
   "metadata": {
    "ExecuteTime": {
     "end_time": "2020-05-17T04:52:04.661580Z",
     "start_time": "2020-05-17T04:52:04.440582Z"
    }
   },
   "outputs": [
    {
     "data": {
      "text/plain": [
       "<matplotlib.axes._subplots.AxesSubplot at 0x1fa8c030888>"
      ]
     },
     "execution_count": 39,
     "metadata": {},
     "output_type": "execute_result"
    },
    {
     "data": {
      "image/png": "[encoded data removed]",
      "text/plain": [
       "<Figure size 432x288 with 1 Axes>"
      ]
     },
     "metadata": {
      "needs_background": "light"
     },
     "output_type": "display_data"
    }
   ],
   "source": [
    "df[df.item_count>20].groupby('item').session_rel_itmidx.mean().hist(bins=20)"
   ]
  },
  {
   "cell_type": "code",
   "execution_count": null,
   "metadata": {},
   "outputs": [],
   "source": []
  },
  {
   "cell_type": "code",
   "execution_count": 29,
   "metadata": {
    "ExecuteTime": {
     "end_time": "2020-05-17T04:42:19.971259Z",
     "start_time": "2020-05-17T04:42:19.717261Z"
    }
   },
   "outputs": [
    {
     "data": {
      "text/plain": [
       "<matplotlib.axes._subplots.AxesSubplot at 0x1fad55751c8>"
      ]
     },
     "execution_count": 29,
     "metadata": {},
     "output_type": "execute_result"
    },
    {
     "data": {
      "image/png": "[encoded data removed]",
      "text/plain": [
       "<Figure size 432x288 with 1 Axes>"
      ]
     },
     "metadata": {
      "needs_background": "light"
     },
     "output_type": "display_data"
    }
   ],
   "source": [
    "df[df.session_len>5].groupby('item').session_rel_itmidx.mean().hist(bins=20)"
   ]
  },
  {
   "cell_type": "code",
   "execution_count": 33,
   "metadata": {
    "ExecuteTime": {
     "end_time": "2020-05-16T02:17:00.635735Z",
     "start_time": "2020-05-16T02:17:00.402736Z"
    }
   },
   "outputs": [
    {
     "data": {
      "text/plain": [
       "<matplotlib.axes._subplots.AxesSubplot at 0x1cb0bb49548>"
      ]
     },
     "execution_count": 33,
     "metadata": {},
     "output_type": "execute_result"
    },
    {
     "data": {
      "image/png": "[encoded data removed]",
      "text/plain": [
       "<Figure size 432x288 with 1 Axes>"
      ]
     },
     "metadata": {
      "needs_background": "light"
     },
     "output_type": "display_data"
    }
   ],
   "source": [
    "df.groupby('item').session_rel_itmidx.std().hist(bins=20)"
   ]
  },
  {
   "cell_type": "code",
   "execution_count": 15,
   "metadata": {
    "ExecuteTime": {
     "end_time": "2020-05-16T01:48:03.833048Z",
     "start_time": "2020-05-16T01:48:03.474049Z"
    }
   },
   "outputs": [
    {
     "data": {
      "text/plain": [
       "<matplotlib.axes._subplots.AxesSubplot at 0x1cb3fa10608>"
      ]
     },
     "execution_count": 15,
     "metadata": {},
     "output_type": "execute_result"
    },
    {
     "data": {
      "image/png": "[encoded data removed]",
      "text/plain": [
       "<Figure size 432x288 with 1 Axes>"
      ]
     },
     "metadata": {
      "needs_background": "light"
     },
     "output_type": "display_data"
    }
   ],
   "source": [
    "mean_idx = df.groupby('item').session_rel_itmidx.mean()\n",
    "df[df.item.isin(list(mean_idx[mean_idx>0.9].index))].session_len.value_counts().sort_index().plot(kind='bar')"
   ]
  },
  {
   "cell_type": "code",
   "execution_count": 16,
   "metadata": {
    "ExecuteTime": {
     "end_time": "2020-05-16T01:48:04.178049Z",
     "start_time": "2020-05-16T01:48:03.834049Z"
    }
   },
   "outputs": [
    {
     "data": {
      "text/plain": [
       "<matplotlib.axes._subplots.AxesSubplot at 0x1cb3fb13a48>"
      ]
     },
     "execution_count": 16,
     "metadata": {},
     "output_type": "execute_result"
    },
    {
     "data": {
      "image/png": "[encoded data removed]",
      "text/plain": [
       "<Figure size 432x288 with 1 Axes>"
      ]
     },
     "metadata": {
      "needs_background": "light"
     },
     "output_type": "display_data"
    }
   ],
   "source": [
    "# mean_idx = df.groupby('item').session_rel_itmidx.mean()\n",
    "df[df.item.isin(list(mean_idx[mean_idx<0.1].index))].session_len.value_counts().sort_index().plot(kind='bar')"
   ]
  },
  {
   "cell_type": "code",
   "execution_count": 17,
   "metadata": {
    "ExecuteTime": {
     "end_time": "2020-05-16T01:48:04.748048Z",
     "start_time": "2020-05-16T01:48:04.179050Z"
    }
   },
   "outputs": [
    {
     "data": {
      "text/plain": [
       "<matplotlib.axes._subplots.AxesSubplot at 0x1cb74046dc8>"
      ]
     },
     "execution_count": 17,
     "metadata": {},
     "output_type": "execute_result"
    },
    {
     "data": {
      "image/png": "[encoded data removed]",
      "text/plain": [
       "<Figure size 432x288 with 1 Axes>"
      ]
     },
     "metadata": {
      "needs_background": "light"
     },
     "output_type": "display_data"
    }
   ],
   "source": [
    "df[df.item.isin(list(mean_idx[mean_idx>0.4].index))|df.item.isin(list(mean_idx[mean_idx<0.6].index))].session_len.value_counts().sort_index().plot(kind='bar')"
   ]
  },
  {
   "cell_type": "code",
   "execution_count": 18,
   "metadata": {
    "ExecuteTime": {
     "end_time": "2020-05-16T01:48:05.018046Z",
     "start_time": "2020-05-16T01:48:04.749049Z"
    }
   },
   "outputs": [
    {
     "data": {
      "text/plain": [
       "<matplotlib.axes._subplots.AxesSubplot at 0x1cb3fcdbc88>"
      ]
     },
     "execution_count": 18,
     "metadata": {},
     "output_type": "execute_result"
    },
    {
     "data": {
      "image/png": "[encoded data removed]",
      "text/plain": [
       "<Figure size 432x288 with 1 Axes>"
      ]
     },
     "metadata": {
      "needs_background": "light"
     },
     "output_type": "display_data"
    }
   ],
   "source": [
    "df.groupby('item').session_itmidx.mean().hist(bins=50)"
   ]
  },
  {
   "cell_type": "code",
   "execution_count": 35,
   "metadata": {
    "ExecuteTime": {
     "end_time": "2020-05-16T02:21:02.008831Z",
     "start_time": "2020-05-16T02:21:01.697801Z"
    }
   },
   "outputs": [
    {
     "data": {
      "text/plain": [
       "<matplotlib.axes._subplots.AxesSubplot at 0x1cb0bce8b88>"
      ]
     },
     "execution_count": 35,
     "metadata": {},
     "output_type": "execute_result"
    },
    {
     "data": {
      "image/png": "[encoded data removed]",
      "text/plain": [
       "<Figure size 432x288 with 1 Axes>"
      ]
     },
     "metadata": {
      "needs_background": "light"
     },
     "output_type": "display_data"
    }
   ],
   "source": [
    "df[df.session_len<=5].groupby('item').session_itmidx.std().hist(bins=50)"
   ]
  },
  {
   "cell_type": "code",
   "execution_count": 45,
   "metadata": {
    "ExecuteTime": {
     "end_time": "2020-05-16T02:22:07.001128Z",
     "start_time": "2020-05-16T02:22:06.767131Z"
    }
   },
   "outputs": [
    {
     "data": {
      "text/plain": [
       "<matplotlib.axes._subplots.AxesSubplot at 0x1cb1034f7c8>"
      ]
     },
     "execution_count": 45,
     "metadata": {},
     "output_type": "execute_result"
    },
    {
     "data": {
      "image/png": "[encoded data removed]",
      "text/plain": [
       "<Figure size 432x288 with 1 Axes>"
      ]
     },
     "metadata": {
      "needs_background": "light"
     },
     "output_type": "display_data"
    }
   ],
   "source": [
    "df[df.session_len==2].groupby('item').session_itmidx.mean().hist(bins=20)"
   ]
  },
  {
   "cell_type": "code",
   "execution_count": 20,
   "metadata": {
    "ExecuteTime": {
     "end_time": "2020-05-16T01:48:05.498046Z",
     "start_time": "2020-05-16T01:48:05.229048Z"
    }
   },
   "outputs": [
    {
     "data": {
      "text/plain": [
       "<matplotlib.axes._subplots.AxesSubplot at 0x1cb090960c8>"
      ]
     },
     "execution_count": 20,
     "metadata": {},
     "output_type": "execute_result"
    },
    {
     "data": {
      "image/png": "[encoded data removed]",
      "text/plain": [
       "<Figure size 432x288 with 1 Axes>"
      ]
     },
     "metadata": {
      "needs_background": "light"
     },
     "output_type": "display_data"
    }
   ],
   "source": [
    "df[df.session_len<=5].groupby('item').session_itmidx.mean().hist(bins=20)"
   ]
  },
  {
   "cell_type": "code",
   "execution_count": 21,
   "metadata": {
    "ExecuteTime": {
     "end_time": "2020-05-16T01:48:05.753047Z",
     "start_time": "2020-05-16T01:48:05.499048Z"
    }
   },
   "outputs": [
    {
     "data": {
      "text/plain": [
       "<matplotlib.axes._subplots.AxesSubplot at 0x1cb09142a88>"
      ]
     },
     "execution_count": 21,
     "metadata": {},
     "output_type": "execute_result"
    },
    {
     "data": {
      "image/png": "[encoded data removed]",
      "text/plain": [
       "<Figure size 432x288 with 1 Axes>"
      ]
     },
     "metadata": {
      "needs_background": "light"
     },
     "output_type": "display_data"
    }
   ],
   "source": [
    "df[df.session_len<=3].groupby('item').session_itmidx.mean().hist(bins=20)"
   ]
  },
  {
   "cell_type": "code",
   "execution_count": 22,
   "metadata": {
    "ExecuteTime": {
     "end_time": "2020-05-16T01:48:05.978046Z",
     "start_time": "2020-05-16T01:48:05.756048Z"
    },
    "scrolled": true
   },
   "outputs": [
    {
     "data": {
      "text/plain": [
       "<matplotlib.axes._subplots.AxesSubplot at 0x1cb0b1432c8>"
      ]
     },
     "execution_count": 22,
     "metadata": {},
     "output_type": "execute_result"
    },
    {
     "data": {
      "image/png": "[encoded data removed]",
      "text/plain": [
       "<Figure size 432x288 with 1 Axes>"
      ]
     },
     "metadata": {
      "needs_background": "light"
     },
     "output_type": "display_data"
    }
   ],
   "source": [
    "df[df.session_len<=2].groupby('item').session_itmidx.mean().hist(bins=20)"
   ]
  },
  {
   "cell_type": "code",
   "execution_count": 23,
   "metadata": {
    "ExecuteTime": {
     "end_time": "2020-05-16T01:48:06.368048Z",
     "start_time": "2020-05-16T01:48:05.980048Z"
    },
    "scrolled": true
   },
   "outputs": [
    {
     "data": {
      "text/plain": [
       "<matplotlib.axes._subplots.AxesSubplot at 0x1cb678f5a48>"
      ]
     },
     "execution_count": 23,
     "metadata": {},
     "output_type": "execute_result"
    },
    {
     "data": {
      "image/png": "[encoded data removed]",
      "text/plain": [
       "<Figure size 432x288 with 1 Axes>"
      ]
     },
     "metadata": {
      "needs_background": "light"
     },
     "output_type": "display_data"
    }
   ],
   "source": [
    "df[~df.item.isin(set(df[df.session_len<=5].item.unique()))].groupby('item').session_itmidx.mean().hist(bins=20)"
   ]
  },
  {
   "cell_type": "code",
   "execution_count": 24,
   "metadata": {
    "ExecuteTime": {
     "end_time": "2020-05-16T01:48:06.623048Z",
     "start_time": "2020-05-16T01:48:06.369048Z"
    },
    "scrolled": false
   },
   "outputs": [
    {
     "data": {
      "text/plain": [
       "<matplotlib.axes._subplots.AxesSubplot at 0x1cb0b2a6c48>"
      ]
     },
     "execution_count": 24,
     "metadata": {},
     "output_type": "execute_result"
    },
    {
     "data": {
      "image/png": "[encoded data removed]",
      "text/plain": [
       "<Figure size 432x288 with 1 Axes>"
      ]
     },
     "metadata": {
      "needs_background": "light"
     },
     "output_type": "display_data"
    }
   ],
   "source": [
    "# 不同item是否更倾向于长/短session\n",
    "df.groupby('item').session_len.mean().hist(bins=50)"
   ]
  },
  {
   "cell_type": "markdown",
   "metadata": {},
   "source": [
    "有些item只出现在短session里，有些item只出现在长session"
   ]
  },
  {
   "cell_type": "code",
   "execution_count": 32,
   "metadata": {
    "ExecuteTime": {
     "end_time": "2020-05-16T02:15:17.153809Z",
     "start_time": "2020-05-16T02:15:16.898782Z"
    }
   },
   "outputs": [
    {
     "data": {
      "text/plain": [
       "<matplotlib.axes._subplots.AxesSubplot at 0x1cb0ba4c788>"
      ]
     },
     "execution_count": 32,
     "metadata": {},
     "output_type": "execute_result"
    },
    {
     "data": {
      "image/png": "[encoded data removed]",
      "text/plain": [
       "<Figure size 432x288 with 1 Axes>"
      ]
     },
     "metadata": {
      "needs_background": "light"
     },
     "output_type": "display_data"
    }
   ],
   "source": [
    "# 不同item是否更倾向于长/短session\n",
    "df.groupby('item').session_len.std().hist(bins=50)"
   ]
  },
  {
   "cell_type": "code",
   "execution_count": 8,
   "metadata": {
    "ExecuteTime": {
     "end_time": "2020-05-17T02:33:09.567209Z",
     "start_time": "2020-05-17T02:33:09.548209Z"
    }
   },
   "outputs": [
    {
     "data": {
      "text/html": [
       "<div>\n",
       "<style scoped>\n",
       "    .dataframe tbody tr th:only-of-type {\n",
       "        vertical-align: middle;\n",
       "    }\n",
       "\n",
       "    .dataframe tbody tr th {\n",
       "        vertical-align: top;\n",
       "    }\n",
       "\n",
       "    .dataframe thead th {\n",
       "        text-align: right;\n",
       "    }\n",
       "</style>\n",
       "<table border=\"1\" class=\"dataframe\">\n",
       "  <thead>\n",
       "    <tr style=\"text-align: right;\">\n",
       "      <th></th>\n",
       "      <th>user</th>\n",
       "      <th>item</th>\n",
       "      <th>timestamp</th>\n",
       "      <th>sessionId</th>\n",
       "      <th>session_len</th>\n",
       "      <th>session_start</th>\n",
       "      <th>session_end</th>\n",
       "      <th>last_sessionId</th>\n",
       "      <th>last_session_endtime</th>\n",
       "      <th>idle_time</th>\n",
       "    </tr>\n",
       "  </thead>\n",
       "  <tbody>\n",
       "    <tr>\n",
       "      <th>8</th>\n",
       "      <td>0</td>\n",
       "      <td>153505</td>\n",
       "      <td>1286899040</td>\n",
       "      <td>0_11</td>\n",
       "      <td>2</td>\n",
       "      <td>1286896743</td>\n",
       "      <td>1286899040</td>\n",
       "      <td>0_10</td>\n",
       "      <td>1.286828e+09</td>\n",
       "      <td>68263.0</td>\n",
       "    </tr>\n",
       "    <tr>\n",
       "      <th>9</th>\n",
       "      <td>0</td>\n",
       "      <td>420315</td>\n",
       "      <td>1286896743</td>\n",
       "      <td>0_11</td>\n",
       "      <td>2</td>\n",
       "      <td>1286896743</td>\n",
       "      <td>1286899040</td>\n",
       "      <td>0_10</td>\n",
       "      <td>1.286828e+09</td>\n",
       "      <td>68263.0</td>\n",
       "    </tr>\n",
       "    <tr>\n",
       "      <th>11</th>\n",
       "      <td>0</td>\n",
       "      <td>16907</td>\n",
       "      <td>1286828480</td>\n",
       "      <td>0_10</td>\n",
       "      <td>2</td>\n",
       "      <td>1286828442</td>\n",
       "      <td>1286828480</td>\n",
       "      <td>0_9</td>\n",
       "      <td>1.286748e+09</td>\n",
       "      <td>80405.0</td>\n",
       "    </tr>\n",
       "    <tr>\n",
       "      <th>12</th>\n",
       "      <td>0</td>\n",
       "      <td>12973</td>\n",
       "      <td>1286828442</td>\n",
       "      <td>0_10</td>\n",
       "      <td>2</td>\n",
       "      <td>1286828442</td>\n",
       "      <td>1286828480</td>\n",
       "      <td>0_9</td>\n",
       "      <td>1.286748e+09</td>\n",
       "      <td>80405.0</td>\n",
       "    </tr>\n",
       "    <tr>\n",
       "      <th>14</th>\n",
       "      <td>0</td>\n",
       "      <td>260957</td>\n",
       "      <td>1286748037</td>\n",
       "      <td>0_9</td>\n",
       "      <td>2</td>\n",
       "      <td>1286745434</td>\n",
       "      <td>1286748037</td>\n",
       "      <td>0_8</td>\n",
       "      <td>1.286663e+09</td>\n",
       "      <td>82207.0</td>\n",
       "    </tr>\n",
       "    <tr>\n",
       "      <th>...</th>\n",
       "      <td>...</td>\n",
       "      <td>...</td>\n",
       "      <td>...</td>\n",
       "      <td>...</td>\n",
       "      <td>...</td>\n",
       "      <td>...</td>\n",
       "      <td>...</td>\n",
       "      <td>...</td>\n",
       "      <td>...</td>\n",
       "      <td>...</td>\n",
       "    </tr>\n",
       "    <tr>\n",
       "      <th>6442867</th>\n",
       "      <td>196578</td>\n",
       "      <td>1160482</td>\n",
       "      <td>1276339638</td>\n",
       "      <td>196578_1</td>\n",
       "      <td>2</td>\n",
       "      <td>1276339638</td>\n",
       "      <td>1276341536</td>\n",
       "      <td>196578_0</td>\n",
       "      <td>1.276271e+09</td>\n",
       "      <td>68660.0</td>\n",
       "    </tr>\n",
       "    <tr>\n",
       "      <th>6442871</th>\n",
       "      <td>196578</td>\n",
       "      <td>467635</td>\n",
       "      <td>1276270978</td>\n",
       "      <td>196578_0</td>\n",
       "      <td>4</td>\n",
       "      <td>1276262794</td>\n",
       "      <td>1276270978</td>\n",
       "      <td>196578_-1</td>\n",
       "      <td>NaN</td>\n",
       "      <td>NaN</td>\n",
       "    </tr>\n",
       "    <tr>\n",
       "      <th>6442873</th>\n",
       "      <td>196578</td>\n",
       "      <td>797460</td>\n",
       "      <td>1276270940</td>\n",
       "      <td>196578_0</td>\n",
       "      <td>4</td>\n",
       "      <td>1276262794</td>\n",
       "      <td>1276270978</td>\n",
       "      <td>196578_-1</td>\n",
       "      <td>NaN</td>\n",
       "      <td>NaN</td>\n",
       "    </tr>\n",
       "    <tr>\n",
       "      <th>6442887</th>\n",
       "      <td>196578</td>\n",
       "      <td>906885</td>\n",
       "      <td>1276263146</td>\n",
       "      <td>196578_0</td>\n",
       "      <td>4</td>\n",
       "      <td>1276262794</td>\n",
       "      <td>1276270978</td>\n",
       "      <td>196578_-1</td>\n",
       "      <td>NaN</td>\n",
       "      <td>NaN</td>\n",
       "    </tr>\n",
       "    <tr>\n",
       "      <th>6442889</th>\n",
       "      <td>196578</td>\n",
       "      <td>1174322</td>\n",
       "      <td>1276262794</td>\n",
       "      <td>196578_0</td>\n",
       "      <td>4</td>\n",
       "      <td>1276262794</td>\n",
       "      <td>1276270978</td>\n",
       "      <td>196578_-1</td>\n",
       "      <td>NaN</td>\n",
       "      <td>NaN</td>\n",
       "    </tr>\n",
       "  </tbody>\n",
       "</table>\n",
       "<p>1047619 rows × 10 columns</p>\n",
       "</div>"
      ],
      "text/plain": [
       "           user     item   timestamp sessionId  session_len  session_start  \\\n",
       "8             0   153505  1286899040      0_11            2     1286896743   \n",
       "9             0   420315  1286896743      0_11            2     1286896743   \n",
       "11            0    16907  1286828480      0_10            2     1286828442   \n",
       "12            0    12973  1286828442      0_10            2     1286828442   \n",
       "14            0   260957  1286748037       0_9            2     1286745434   \n",
       "...         ...      ...         ...       ...          ...            ...   \n",
       "6442867  196578  1160482  1276339638  196578_1            2     1276339638   \n",
       "6442871  196578   467635  1276270978  196578_0            4     1276262794   \n",
       "6442873  196578   797460  1276270940  196578_0            4     1276262794   \n",
       "6442887  196578   906885  1276263146  196578_0            4     1276262794   \n",
       "6442889  196578  1174322  1276262794  196578_0            4     1276262794   \n",
       "\n",
       "         session_end last_sessionId  last_session_endtime  idle_time  \n",
       "8         1286899040           0_10          1.286828e+09    68263.0  \n",
       "9         1286899040           0_10          1.286828e+09    68263.0  \n",
       "11        1286828480            0_9          1.286748e+09    80405.0  \n",
       "12        1286828480            0_9          1.286748e+09    80405.0  \n",
       "14        1286748037            0_8          1.286663e+09    82207.0  \n",
       "...              ...            ...                   ...        ...  \n",
       "6442867   1276341536       196578_0          1.276271e+09    68660.0  \n",
       "6442871   1276270978      196578_-1                   NaN        NaN  \n",
       "6442873   1276270978      196578_-1                   NaN        NaN  \n",
       "6442887   1276270978      196578_-1                   NaN        NaN  \n",
       "6442889   1276270978      196578_-1                   NaN        NaN  \n",
       "\n",
       "[1047619 rows x 10 columns]"
      ]
     },
     "execution_count": 8,
     "metadata": {},
     "output_type": "execute_result"
    }
   ],
   "source": [
    "df"
   ]
  },
  {
   "cell_type": "code",
   "execution_count": 9,
   "metadata": {
    "ExecuteTime": {
     "end_time": "2020-05-17T02:44:49.856165Z",
     "start_time": "2020-05-17T02:44:49.638651Z"
    }
   },
   "outputs": [
    {
     "data": {
      "text/plain": [
       "item     session_len\n",
       "8904     2               1\n",
       "         3               2\n",
       "         7               1\n",
       "8932     2               4\n",
       "         3               1\n",
       "                        ..\n",
       "5838873  2              10\n",
       "         3               2\n",
       "         5               1\n",
       "         6               1\n",
       "         18              1\n",
       "Name: item, Length: 436955, dtype: int64"
      ]
     },
     "execution_count": 9,
     "metadata": {},
     "output_type": "execute_result"
    }
   ],
   "source": [
    "df.groupby(['item','session_len']).item.size()"
   ]
  },
  {
   "cell_type": "code",
   "execution_count": 26,
   "metadata": {
    "ExecuteTime": {
     "end_time": "2020-05-17T02:58:02.234060Z",
     "start_time": "2020-05-17T02:58:02.202060Z"
    }
   },
   "outputs": [
    {
     "data": {
      "text/html": [
       "<div>\n",
       "<style scoped>\n",
       "    .dataframe tbody tr th:only-of-type {\n",
       "        vertical-align: middle;\n",
       "    }\n",
       "\n",
       "    .dataframe tbody tr th {\n",
       "        vertical-align: top;\n",
       "    }\n",
       "\n",
       "    .dataframe thead th {\n",
       "        text-align: right;\n",
       "    }\n",
       "</style>\n",
       "<table border=\"1\" class=\"dataframe\">\n",
       "  <thead>\n",
       "    <tr style=\"text-align: right;\">\n",
       "      <th></th>\n",
       "      <th>user</th>\n",
       "      <th>item</th>\n",
       "      <th>timestamp</th>\n",
       "      <th>sessionId</th>\n",
       "      <th>session_len</th>\n",
       "      <th>session_start</th>\n",
       "      <th>session_end</th>\n",
       "      <th>last_sessionId</th>\n",
       "      <th>last_session_endtime</th>\n",
       "      <th>idle_time</th>\n",
       "      <th>session_len_group</th>\n",
       "    </tr>\n",
       "  </thead>\n",
       "  <tbody>\n",
       "    <tr>\n",
       "      <th>8</th>\n",
       "      <td>0</td>\n",
       "      <td>153505</td>\n",
       "      <td>1286899040</td>\n",
       "      <td>0_11</td>\n",
       "      <td>2</td>\n",
       "      <td>1286896743</td>\n",
       "      <td>1286899040</td>\n",
       "      <td>0_10</td>\n",
       "      <td>1.286828e+09</td>\n",
       "      <td>68263.0</td>\n",
       "      <td>0</td>\n",
       "    </tr>\n",
       "    <tr>\n",
       "      <th>9</th>\n",
       "      <td>0</td>\n",
       "      <td>420315</td>\n",
       "      <td>1286896743</td>\n",
       "      <td>0_11</td>\n",
       "      <td>2</td>\n",
       "      <td>1286896743</td>\n",
       "      <td>1286899040</td>\n",
       "      <td>0_10</td>\n",
       "      <td>1.286828e+09</td>\n",
       "      <td>68263.0</td>\n",
       "      <td>0</td>\n",
       "    </tr>\n",
       "    <tr>\n",
       "      <th>11</th>\n",
       "      <td>0</td>\n",
       "      <td>16907</td>\n",
       "      <td>1286828480</td>\n",
       "      <td>0_10</td>\n",
       "      <td>2</td>\n",
       "      <td>1286828442</td>\n",
       "      <td>1286828480</td>\n",
       "      <td>0_9</td>\n",
       "      <td>1.286748e+09</td>\n",
       "      <td>80405.0</td>\n",
       "      <td>0</td>\n",
       "    </tr>\n",
       "    <tr>\n",
       "      <th>12</th>\n",
       "      <td>0</td>\n",
       "      <td>12973</td>\n",
       "      <td>1286828442</td>\n",
       "      <td>0_10</td>\n",
       "      <td>2</td>\n",
       "      <td>1286828442</td>\n",
       "      <td>1286828480</td>\n",
       "      <td>0_9</td>\n",
       "      <td>1.286748e+09</td>\n",
       "      <td>80405.0</td>\n",
       "      <td>0</td>\n",
       "    </tr>\n",
       "    <tr>\n",
       "      <th>14</th>\n",
       "      <td>0</td>\n",
       "      <td>260957</td>\n",
       "      <td>1286748037</td>\n",
       "      <td>0_9</td>\n",
       "      <td>2</td>\n",
       "      <td>1286745434</td>\n",
       "      <td>1286748037</td>\n",
       "      <td>0_8</td>\n",
       "      <td>1.286663e+09</td>\n",
       "      <td>82207.0</td>\n",
       "      <td>0</td>\n",
       "    </tr>\n",
       "    <tr>\n",
       "      <th>...</th>\n",
       "      <td>...</td>\n",
       "      <td>...</td>\n",
       "      <td>...</td>\n",
       "      <td>...</td>\n",
       "      <td>...</td>\n",
       "      <td>...</td>\n",
       "      <td>...</td>\n",
       "      <td>...</td>\n",
       "      <td>...</td>\n",
       "      <td>...</td>\n",
       "      <td>...</td>\n",
       "    </tr>\n",
       "    <tr>\n",
       "      <th>6442867</th>\n",
       "      <td>196578</td>\n",
       "      <td>1160482</td>\n",
       "      <td>1276339638</td>\n",
       "      <td>196578_1</td>\n",
       "      <td>2</td>\n",
       "      <td>1276339638</td>\n",
       "      <td>1276341536</td>\n",
       "      <td>196578_0</td>\n",
       "      <td>1.276271e+09</td>\n",
       "      <td>68660.0</td>\n",
       "      <td>0</td>\n",
       "    </tr>\n",
       "    <tr>\n",
       "      <th>6442871</th>\n",
       "      <td>196578</td>\n",
       "      <td>467635</td>\n",
       "      <td>1276270978</td>\n",
       "      <td>196578_0</td>\n",
       "      <td>4</td>\n",
       "      <td>1276262794</td>\n",
       "      <td>1276270978</td>\n",
       "      <td>196578_-1</td>\n",
       "      <td>NaN</td>\n",
       "      <td>NaN</td>\n",
       "      <td>0</td>\n",
       "    </tr>\n",
       "    <tr>\n",
       "      <th>6442873</th>\n",
       "      <td>196578</td>\n",
       "      <td>797460</td>\n",
       "      <td>1276270940</td>\n",
       "      <td>196578_0</td>\n",
       "      <td>4</td>\n",
       "      <td>1276262794</td>\n",
       "      <td>1276270978</td>\n",
       "      <td>196578_-1</td>\n",
       "      <td>NaN</td>\n",
       "      <td>NaN</td>\n",
       "      <td>0</td>\n",
       "    </tr>\n",
       "    <tr>\n",
       "      <th>6442887</th>\n",
       "      <td>196578</td>\n",
       "      <td>906885</td>\n",
       "      <td>1276263146</td>\n",
       "      <td>196578_0</td>\n",
       "      <td>4</td>\n",
       "      <td>1276262794</td>\n",
       "      <td>1276270978</td>\n",
       "      <td>196578_-1</td>\n",
       "      <td>NaN</td>\n",
       "      <td>NaN</td>\n",
       "      <td>0</td>\n",
       "    </tr>\n",
       "    <tr>\n",
       "      <th>6442889</th>\n",
       "      <td>196578</td>\n",
       "      <td>1174322</td>\n",
       "      <td>1276262794</td>\n",
       "      <td>196578_0</td>\n",
       "      <td>4</td>\n",
       "      <td>1276262794</td>\n",
       "      <td>1276270978</td>\n",
       "      <td>196578_-1</td>\n",
       "      <td>NaN</td>\n",
       "      <td>NaN</td>\n",
       "      <td>0</td>\n",
       "    </tr>\n",
       "  </tbody>\n",
       "</table>\n",
       "<p>1047619 rows × 11 columns</p>\n",
       "</div>"
      ],
      "text/plain": [
       "           user     item   timestamp sessionId  session_len  session_start  \\\n",
       "8             0   153505  1286899040      0_11            2     1286896743   \n",
       "9             0   420315  1286896743      0_11            2     1286896743   \n",
       "11            0    16907  1286828480      0_10            2     1286828442   \n",
       "12            0    12973  1286828442      0_10            2     1286828442   \n",
       "14            0   260957  1286748037       0_9            2     1286745434   \n",
       "...         ...      ...         ...       ...          ...            ...   \n",
       "6442867  196578  1160482  1276339638  196578_1            2     1276339638   \n",
       "6442871  196578   467635  1276270978  196578_0            4     1276262794   \n",
       "6442873  196578   797460  1276270940  196578_0            4     1276262794   \n",
       "6442887  196578   906885  1276263146  196578_0            4     1276262794   \n",
       "6442889  196578  1174322  1276262794  196578_0            4     1276262794   \n",
       "\n",
       "         session_end last_sessionId  last_session_endtime  idle_time  \\\n",
       "8         1286899040           0_10          1.286828e+09    68263.0   \n",
       "9         1286899040           0_10          1.286828e+09    68263.0   \n",
       "11        1286828480            0_9          1.286748e+09    80405.0   \n",
       "12        1286828480            0_9          1.286748e+09    80405.0   \n",
       "14        1286748037            0_8          1.286663e+09    82207.0   \n",
       "...              ...            ...                   ...        ...   \n",
       "6442867   1276341536       196578_0          1.276271e+09    68660.0   \n",
       "6442871   1276270978      196578_-1                   NaN        NaN   \n",
       "6442873   1276270978      196578_-1                   NaN        NaN   \n",
       "6442887   1276270978      196578_-1                   NaN        NaN   \n",
       "6442889   1276270978      196578_-1                   NaN        NaN   \n",
       "\n",
       "         session_len_group  \n",
       "8                        0  \n",
       "9                        0  \n",
       "11                       0  \n",
       "12                       0  \n",
       "14                       0  \n",
       "...                    ...  \n",
       "6442867                  0  \n",
       "6442871                  0  \n",
       "6442873                  0  \n",
       "6442887                  0  \n",
       "6442889                  0  \n",
       "\n",
       "[1047619 rows x 11 columns]"
      ]
     },
     "execution_count": 26,
     "metadata": {},
     "output_type": "execute_result"
    }
   ],
   "source": [
    "mp = pd.Series([0 if i<=5 else 1 for i in range(1,21)], index = list(range(1,21)))\n",
    "\n",
    "df['session_len_group'] = df.session_len.map(mp)\n",
    "df"
   ]
  },
  {
   "cell_type": "code",
   "execution_count": 40,
   "metadata": {
    "ExecuteTime": {
     "end_time": "2020-05-17T04:57:43.421993Z",
     "start_time": "2020-05-17T04:57:43.296217Z"
    }
   },
   "outputs": [
    {
     "data": {
      "text/plain": [
       "item     session_len\n",
       "8938     2              12\n",
       "         3               5\n",
       "         5               2\n",
       "         7               1\n",
       "         9               1\n",
       "                        ..\n",
       "5535878  9               4\n",
       "         13              1\n",
       "         15              1\n",
       "         18              1\n",
       "         20              1\n",
       "Name: item, Length: 86699, dtype: int64"
      ]
     },
     "execution_count": 40,
     "metadata": {},
     "output_type": "execute_result"
    }
   ],
   "source": [
    "df[df.item_count>20].groupby(['item','session_len']).item.size()"
   ]
  },
  {
   "cell_type": "code",
   "execution_count": null,
   "metadata": {},
   "outputs": [],
   "source": []
  }
 ],
 "metadata": {
  "hide_input": false,
  "kernelspec": {
   "display_name": "Python 3",
   "language": "python",
   "name": "python3"
  },
  "language_info": {
   "codemirror_mode": {
    "name": "ipython",
    "version": 3
   },
   "file_extension": ".py",
   "mimetype": "text/x-python",
   "name": "python",
   "nbconvert_exporter": "python",
   "pygments_lexer": "ipython3",
   "version": "3.8.5"
  },
  "latex_envs": {
   "LaTeX_envs_menu_present": true,
   "autoclose": false,
   "autocomplete": true,
   "bibliofile": "biblio.bib",
   "cite_by": "apalike",
   "current_citInitial": 1,
   "eqLabelWithNumbers": true,
   "eqNumInitial": 1,
   "hotkeys": {
    "equation": "Ctrl-E",
    "itemize": "Ctrl-I"
   },
   "labels_anchors": false,
   "latex_user_defs": false,
   "report_style_numbering": false,
   "user_envs_cfg": false
  },
  "toc": {
   "base_numbering": 1,
   "nav_menu": {},
   "number_sections": true,
   "sideBar": true,
   "skip_h1_title": false,
   "title_cell": "Table of Contents",
   "title_sidebar": "Contents",
   "toc_cell": false,
   "toc_position": {},
   "toc_section_display": true,
   "toc_window_display": false
  },
  "varInspector": {
   "cols": {
    "lenName": 16,
    "lenType": 16,
    "lenVar": 40
   },
   "kernels_config": {
    "python": {
     "delete_cmd_postfix": "",
     "delete_cmd_prefix": "del ",
     "library": "var_list.py",
     "varRefreshCmd": "print(var_dic_list())"
    },
    "r": {
     "delete_cmd_postfix": ") ",
     "delete_cmd_prefix": "rm(",
     "library": "var_list.r",
     "varRefreshCmd": "cat(var_dic_list()) "
    }
   },
   "types_to_exclude": [
    "module",
    "function",
    "builtin_function_or_method",
    "instance",
    "_Feature"
   ],
   "window_display": false
  }
 },
 "nbformat": 4,
 "nbformat_minor": 4
}
