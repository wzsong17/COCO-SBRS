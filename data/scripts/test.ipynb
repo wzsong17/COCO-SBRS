{
 "cells": [
  {
   "cell_type": "code",
   "execution_count": 1,
   "id": "307f8574-e354-4696-a10b-71d8570d4844",
   "metadata": {},
   "outputs": [],
   "source": [
    "import pandas as pd\n",
    "import numpy as np\n",
    "import pickle as pkl"
   ]
  },
  {
   "cell_type": "code",
   "execution_count": 2,
   "id": "6508bab5-9c6f-4b1c-b241-f14d1244781d",
   "metadata": {},
   "outputs": [],
   "source": [
    "with open('../session_data.pkl', 'rb') as f:\n",
    "    dt = pkl.load(f)"
   ]
  },
  {
   "cell_type": "code",
   "execution_count": 3,
   "id": "f867e7ef-e825-4c55-bd83-2f6b6211a9f1",
   "metadata": {},
   "outputs": [
    {
     "data": {
      "text/plain": [
       "{'delicious':           user  bookmarkID  item     timestamp sessionId\n",
       " 43           8          30     1  1.289184e+09       8_8\n",
       " 48           8          33    36  1.289183e+09       8_8\n",
       " 56           8          37    40  1.289183e+09       8_8\n",
       " 58           8          38    41  1.289183e+09       8_8\n",
       " 59           8          41    43  1.289154e+09       8_7\n",
       " ...        ...         ...   ...           ...       ...\n",
       " 437588  108035       30993   193  1.277495e+09  108035_1\n",
       " 437589  108035       30993   673  1.277495e+09  108035_1\n",
       " 437590  108035       30994   130  1.277224e+09  108035_0\n",
       " 437591  108035       30994   267  1.277224e+09  108035_0\n",
       " 437592  108035       30994  4943  1.277224e+09  108035_0\n",
       " \n",
       " [249919 rows x 5 columns],\n",
       " 'ciao':        user   item   timestamp sessionId\n",
       " 412       7    407  1245913200       7_5\n",
       " 414       7    409  1245913200       7_5\n",
       " 415       7    410  1245913200       7_5\n",
       " 417       7    412  1244876400       7_4\n",
       " 419       7     13  1244876400       7_4\n",
       " ...     ...    ...         ...       ...\n",
       " 35950  2369   6663   972457200    2369_0\n",
       " 35958  2370   9636   977554800    2370_2\n",
       " 35959  2370  11881   977554800    2370_2\n",
       " 35963  2370   1468   976863600    2370_1\n",
       " 35964  2370  10720   976863600    2370_1\n",
       " \n",
       " [1128 rows x 4 columns],\n",
       " 'lastfm':         user  item     timestamp sessionId\n",
       " 0          2    13  1.238537e+09       2_0\n",
       " 1          2    15  1.238537e+09       2_0\n",
       " 2          2    18  1.238537e+09       2_0\n",
       " 3          2    21  1.238537e+09       2_0\n",
       " 6          2    14  1.238537e+09       2_0\n",
       " ...      ...   ...           ...       ...\n",
       " 186467  2100  2087  1.254348e+09    2100_3\n",
       " 186469  2100     4  1.241129e+09    2100_1\n",
       " 186470  2100  3510  1.241129e+09    2100_1\n",
       " 186474  2100     4  1.277935e+09    2100_5\n",
       " 186476  2100  2087  1.277935e+09    2100_5\n",
       " \n",
       " [38367 rows x 4 columns],\n",
       " 'gowalla':            user     item   timestamp sessionId\n",
       " 2             0   316637  1287358923     0_134\n",
       " 3             0    16516  1287343565     0_134\n",
       " 5             0    15372  1286927883     0_132\n",
       " 6             0    21714  1286920931     0_132\n",
       " 7             0   420315  1286912680     0_132\n",
       " ...         ...      ...         ...       ...\n",
       " 6442867  196578  1160482  1276339638  196578_1\n",
       " 6442871  196578   467635  1276270978  196578_0\n",
       " 6442873  196578   797460  1276270940  196578_0\n",
       " 6442887  196578   906885  1276263146  196578_0\n",
       " 6442889  196578  1174322  1276262794  196578_0\n",
       " \n",
       " [1799355 rows x 4 columns],\n",
       " 'epinions':          user   item  timestamp sessionId\n",
       " 15          2     16  973580400       2_9\n",
       " 16          2      1  973580400       2_9\n",
       " 27          2     27  954399600       2_5\n",
       " 28          2     28  954399600       2_5\n",
       " 32          2     32  951289200       2_2\n",
       " ...       ...    ...        ...       ...\n",
       " 922201  22162  46330  971593200   22162_4\n",
       " 922202  22162  14975  971593200   22162_4\n",
       " 922249  22165  32059  961052400   22165_0\n",
       " 922253  22165   9064  961052400   22165_0\n",
       " 922254  22165  23200  961052400   22165_0\n",
       " \n",
       " [101622 rows x 4 columns],\n",
       " 'douban':             user   item     timestamp sessionId\n",
       " 15        630154     15  1.144166e+09  630154_1\n",
       " 16        630154     16  1.144166e+09  630154_1\n",
       " 17        630154     17  1.144166e+09  630154_1\n",
       " 18        630154     18  1.144166e+09  630154_1\n",
       " 19        630154     19  1.144166e+09  630154_1\n",
       " ...          ...    ...           ...       ...\n",
       " 11742153   37847  18727  1.475856e+09  37847_24\n",
       " 11742154   37847    693  1.475856e+09  37847_24\n",
       " 11742155   37847   1281  1.475856e+09  37847_24\n",
       " 11742183   37847  10790  1.480954e+09  37847_34\n",
       " 11742184   37847   6750  1.480954e+09  37847_34\n",
       " \n",
       " [2688314 rows x 4 columns],\n",
       " 'reddit':                user              item     timestamp      sessionId\n",
       " 0         kabanossi  photoshopbattles  1.482748e+09  kabanossi_264\n",
       " 1         kabanossi      GetMotivated  1.482748e+09  kabanossi_264\n",
       " 2         kabanossi            vmware  1.482748e+09  kabanossi_264\n",
       " 3         kabanossi           carporn  1.482748e+09  kabanossi_264\n",
       " 4         kabanossi               DIY  1.482747e+09  kabanossi_264\n",
       " ...             ...               ...           ...            ...\n",
       " 13999910     RushNY        dogemarket  1.407459e+09      RushNY_43\n",
       " 13999911     RushNY          dogecoin  1.407459e+09      RushNY_43\n",
       " 13999913     RushNY         iOSthemes  1.407457e+09      RushNY_43\n",
       " 13999968     RushNY              cars  1.406746e+09      RushNY_19\n",
       " 13999970     RushNY          dogecoin  1.406743e+09      RushNY_19\n",
       " \n",
       " [2874671 rows x 4 columns]}"
      ]
     },
     "execution_count": 3,
     "metadata": {},
     "output_type": "execute_result"
    }
   ],
   "source": [
    "dt"
   ]
  },
  {
   "cell_type": "code",
   "execution_count": 4,
   "id": "aa10308a-27ea-42ad-86e1-ba32f2625bef",
   "metadata": {},
   "outputs": [
    {
     "data": {
      "text/html": [
       "<div>\n",
       "<style scoped>\n",
       "    .dataframe tbody tr th:only-of-type {\n",
       "        vertical-align: middle;\n",
       "    }\n",
       "\n",
       "    .dataframe tbody tr th {\n",
       "        vertical-align: top;\n",
       "    }\n",
       "\n",
       "    .dataframe thead th {\n",
       "        text-align: right;\n",
       "    }\n",
       "</style>\n",
       "<table border=\"1\" class=\"dataframe\">\n",
       "  <thead>\n",
       "    <tr style=\"text-align: right;\">\n",
       "      <th></th>\n",
       "      <th>user</th>\n",
       "      <th>bookmarkID</th>\n",
       "      <th>item</th>\n",
       "      <th>timestamp</th>\n",
       "      <th>sessionId</th>\n",
       "    </tr>\n",
       "  </thead>\n",
       "  <tbody>\n",
       "    <tr>\n",
       "      <th>43</th>\n",
       "      <td>8</td>\n",
       "      <td>30</td>\n",
       "      <td>1</td>\n",
       "      <td>1.289184e+09</td>\n",
       "      <td>8_8</td>\n",
       "    </tr>\n",
       "    <tr>\n",
       "      <th>48</th>\n",
       "      <td>8</td>\n",
       "      <td>33</td>\n",
       "      <td>36</td>\n",
       "      <td>1.289183e+09</td>\n",
       "      <td>8_8</td>\n",
       "    </tr>\n",
       "    <tr>\n",
       "      <th>56</th>\n",
       "      <td>8</td>\n",
       "      <td>37</td>\n",
       "      <td>40</td>\n",
       "      <td>1.289183e+09</td>\n",
       "      <td>8_8</td>\n",
       "    </tr>\n",
       "    <tr>\n",
       "      <th>58</th>\n",
       "      <td>8</td>\n",
       "      <td>38</td>\n",
       "      <td>41</td>\n",
       "      <td>1.289183e+09</td>\n",
       "      <td>8_8</td>\n",
       "    </tr>\n",
       "    <tr>\n",
       "      <th>59</th>\n",
       "      <td>8</td>\n",
       "      <td>41</td>\n",
       "      <td>43</td>\n",
       "      <td>1.289154e+09</td>\n",
       "      <td>8_7</td>\n",
       "    </tr>\n",
       "    <tr>\n",
       "      <th>...</th>\n",
       "      <td>...</td>\n",
       "      <td>...</td>\n",
       "      <td>...</td>\n",
       "      <td>...</td>\n",
       "      <td>...</td>\n",
       "    </tr>\n",
       "    <tr>\n",
       "      <th>437588</th>\n",
       "      <td>108035</td>\n",
       "      <td>30993</td>\n",
       "      <td>193</td>\n",
       "      <td>1.277495e+09</td>\n",
       "      <td>108035_1</td>\n",
       "    </tr>\n",
       "    <tr>\n",
       "      <th>437589</th>\n",
       "      <td>108035</td>\n",
       "      <td>30993</td>\n",
       "      <td>673</td>\n",
       "      <td>1.277495e+09</td>\n",
       "      <td>108035_1</td>\n",
       "    </tr>\n",
       "    <tr>\n",
       "      <th>437590</th>\n",
       "      <td>108035</td>\n",
       "      <td>30994</td>\n",
       "      <td>130</td>\n",
       "      <td>1.277224e+09</td>\n",
       "      <td>108035_0</td>\n",
       "    </tr>\n",
       "    <tr>\n",
       "      <th>437591</th>\n",
       "      <td>108035</td>\n",
       "      <td>30994</td>\n",
       "      <td>267</td>\n",
       "      <td>1.277224e+09</td>\n",
       "      <td>108035_0</td>\n",
       "    </tr>\n",
       "    <tr>\n",
       "      <th>437592</th>\n",
       "      <td>108035</td>\n",
       "      <td>30994</td>\n",
       "      <td>4943</td>\n",
       "      <td>1.277224e+09</td>\n",
       "      <td>108035_0</td>\n",
       "    </tr>\n",
       "  </tbody>\n",
       "</table>\n",
       "<p>249919 rows × 5 columns</p>\n",
       "</div>"
      ],
      "text/plain": [
       "          user  bookmarkID  item     timestamp sessionId\n",
       "43           8          30     1  1.289184e+09       8_8\n",
       "48           8          33    36  1.289183e+09       8_8\n",
       "56           8          37    40  1.289183e+09       8_8\n",
       "58           8          38    41  1.289183e+09       8_8\n",
       "59           8          41    43  1.289154e+09       8_7\n",
       "...        ...         ...   ...           ...       ...\n",
       "437588  108035       30993   193  1.277495e+09  108035_1\n",
       "437589  108035       30993   673  1.277495e+09  108035_1\n",
       "437590  108035       30994   130  1.277224e+09  108035_0\n",
       "437591  108035       30994   267  1.277224e+09  108035_0\n",
       "437592  108035       30994  4943  1.277224e+09  108035_0\n",
       "\n",
       "[249919 rows x 5 columns]"
      ]
     },
     "execution_count": 4,
     "metadata": {},
     "output_type": "execute_result"
    }
   ],
   "source": [
    "df = dt['delicious']\n",
    "df"
   ]
  },
  {
   "cell_type": "code",
   "execution_count": 16,
   "id": "e1116ec7-cc71-46c9-8a27-cb1a611d9770",
   "metadata": {},
   "outputs": [
    {
     "data": {
      "text/plain": [
       "user\n",
       "8                       [8_8, 8_7, 8_6, 8_5, 8_4, 8_3, 8_2]\n",
       "32                                 [32_6, 32_4, 32_1, 32_0]\n",
       "57        [57_13, 57_12, 57_11, 57_10, 57_8, 57_7, 57_5,...\n",
       "147       [147_17, 147_16, 147_15, 147_14, 147_13, 147_1...\n",
       "233       [233_49, 233_48, 233_47, 233_46, 233_45, 233_4...\n",
       "                                ...                        \n",
       "107686    [107686_21, 107686_48, 107686_46, 107686_45, 1...\n",
       "107755                                           [107755_0]\n",
       "107862    [107862_37, 107862_46, 107862_44, 107862_43, 1...\n",
       "107984                                           [107984_0]\n",
       "108035    [108035_2, 108035_4, 108035_5, 108035_0, 10803...\n",
       "Name: sessionId, Length: 1752, dtype: object"
      ]
     },
     "execution_count": 16,
     "metadata": {},
     "output_type": "execute_result"
    }
   ],
   "source": [
    "df.groupby('user')['sessionId'].unique()"
   ]
  },
  {
   "cell_type": "code",
   "execution_count": 13,
   "id": "d513f570-e0a5-4c46-ab8a-ce4ae0b9256a",
   "metadata": {},
   "outputs": [
    {
     "data": {
      "text/plain": [
       "pandas.core.series.Series"
      ]
     },
     "execution_count": 13,
     "metadata": {},
     "output_type": "execute_result"
    }
   ],
   "source": [
    "type(df.groupby('user')['sessionId'].unique())"
   ]
  },
  {
   "cell_type": "code",
   "execution_count": 15,
   "id": "89ac4506-5992-4004-8433-eb4d16785aea",
   "metadata": {},
   "outputs": [
    {
     "data": {
      "text/plain": [
       "user\n",
       "8               8_8\n",
       "32             32_1\n",
       "57            57_12\n",
       "147          147_15\n",
       "233           233_5\n",
       "            ...    \n",
       "107686    107686_24\n",
       "107755     107755_0\n",
       "107862    107862_17\n",
       "107984     107984_0\n",
       "108035     108035_2\n",
       "Name: sessionId, Length: 1752, dtype: object"
      ]
     },
     "execution_count": 15,
     "metadata": {},
     "output_type": "execute_result"
    }
   ],
   "source": [
    "df.groupby('user')['sessionId'].unique().apply(np.random.choice)"
   ]
  },
  {
   "cell_type": "code",
   "execution_count": null,
   "id": "4d661a3a-4049-44b4-ac10-09af413e4b08",
   "metadata": {},
   "outputs": [],
   "source": []
  }
 ],
 "metadata": {
  "kernelspec": {
   "display_name": "Python 3 (ipykernel)",
   "language": "python",
   "name": "python3"
  },
  "language_info": {
   "codemirror_mode": {
    "name": "ipython",
    "version": 3
   },
   "file_extension": ".py",
   "mimetype": "text/x-python",
   "name": "python",
   "nbconvert_exporter": "python",
   "pygments_lexer": "ipython3",
   "version": "3.7.13"
  }
 },
 "nbformat": 4,
 "nbformat_minor": 5
}
